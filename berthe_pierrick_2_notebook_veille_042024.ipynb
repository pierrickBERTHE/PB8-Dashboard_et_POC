{
 "cells": [
  {
   "cell_type": "markdown",
   "metadata": {},
   "source": [
    "# <span style='color:SteelBlue'>P8 - Réalisez un dashboard et assurez une veille technique</span>"
   ]
  },
  {
   "cell_type": "markdown",
   "metadata": {},
   "source": [
    "Image?"
   ]
  },
  {
   "cell_type": "markdown",
   "metadata": {},
   "source": [
    "# <span style='background:red; color:black'>a MAJ</span>\n",
    "\n",
    "# <span style='background:white; color:black'>Sommaire</span>\n",
    "\n",
    "Importations des librairies<br>\n",
    "\n",
    "Paramètres d'affichage<br>\n",
    "\n",
    "Fonctions <br>\n",
    "\n",
    "Importation des donnees <br>\n",
    "\n",
    "**Etape 1 : Description des donnees**\n",
    "- _1/ etc..._\n",
    "\n",
    "\n",
    "Conclusion"
   ]
  },
  {
   "cell_type": "markdown",
   "metadata": {},
   "source": [
    "# <span style='background:blue'>Introduction</span>\n",
    "\n",
    "Veille technique...\n",
    "___\n",
    "**Missions**<br>\n",
    "1/ ...\n",
    "\n",
    "\n",
    "___\n",
    "Ce notebook presente ...\n",
    "\n",
    "___\n",
    "\n",
    "**Source des datasets**<br>\n",
    "a completer..."
   ]
  },
  {
   "cell_type": "markdown",
   "metadata": {},
   "source": [
    "# <span style='background:grey'>Importations des librairies</span>"
   ]
  },
  {
   "cell_type": "code",
   "execution_count": null,
   "metadata": {},
   "outputs": [
    {
     "ename": "",
     "evalue": "",
     "output_type": "error",
     "traceback": [
      "\u001b[1;31mRunning cells with 'env' requires the ipykernel package.\n",
      "\u001b[1;31mRun the following command to install 'ipykernel' into the Python environment. \n",
      "\u001b[1;31mCommand: 'c:/Users/pierr/VSC_Projects/Projet6_OCR_DataScientist-/env/Scripts/python.exe -m pip install ipykernel -U --force-reinstall'"
     ]
    }
   ],
   "source": [
    "# Librairies generales\n",
    "import os.path\n",
    "import sys\n",
    "import time\n",
    "from datetime import datetime\n",
    "\n",
    "# Librairies data science\n",
    "import matplotlib as mpl\n",
    "import matplotlib.pyplot as plt\n",
    "import numpy as np\n",
    "import pandas as pd\n",
    "import seaborn as sns\n",
    "\n",
    "# Affichage plot dans le notebook\n",
    "%matplotlib inline\n",
    "\n",
    "# Versions\n",
    "print(\"Version des librairies utilisees :\")\n",
    "print(\"Python        : \" + sys.version)\n",
    "print(\"Matplotlib    : \" + mpl.__version__)\n",
    "print(\"NumPy         : \" + np.version.full_version)\n",
    "print(\"Pandas        : \" + pd.__version__)\n",
    "print(\"Seaborn       : \" + sns.__version__)\n",
    "\n",
    "# Afficher heure lancement\n",
    "maintenant = datetime.now().isoformat()\n",
    "print(\"\\nCode lance le : \" + maintenant)\n",
    "\n",
    "# Enregistrer l'heure de debut\n",
    "start_time = time.time()\n",
    "\n",
    "# Activer la verification PEP8\n",
    "print(\"\")\n",
    "%reload_ext pycodestyle_magic\n",
    "%pycodestyle_on"
   ]
  },
  {
   "cell_type": "markdown",
   "metadata": {},
   "source": [
    "# <span style='background:grey'>Paramètres d'affichage</span>"
   ]
  },
  {
   "cell_type": "code",
   "execution_count": null,
   "metadata": {},
   "outputs": [],
   "source": [
    "# nombre ligne, col et chiffre apres la virgule\n",
    "pd.set_option(\"display.max_row\", 150)\n",
    "pd.set_option(\"display.max_column\", 150)\n",
    "pd.set_option(\"display.precision\", 2)"
   ]
  },
  {
   "cell_type": "markdown",
   "metadata": {},
   "source": [
    "# <span style='background:grey'>Fonctions</span>\n"
   ]
  },
  {
   "cell_type": "code",
   "execution_count": null,
   "metadata": {},
   "outputs": [],
   "source": []
  },
  {
   "cell_type": "markdown",
   "metadata": {},
   "source": [
    "# <span style='background:grey'>Importation des donnees</span>\n",
    "\n",
    "Importation des fichiers CSV avec Pandas"
   ]
  },
  {
   "cell_type": "code",
   "execution_count": null,
   "metadata": {},
   "outputs": [],
   "source": [
    "# Definir le chemin\n",
    "chemin = \"./data/source/\"\n",
    "\n",
    "# Obtenir une liste de tous les fichiers dans le repertoire\n",
    "fichiers = os.listdir(chemin)\n",
    "\n",
    "# Initialiser un dictionnaire vide et print de la liste des fichiers importe\n",
    "data_brut = {}\n",
    "print(\"===> Liste des fichiers importes: <====\\n\")\n",
    "\n",
    "# POUR chaque fichier\n",
    "for fichier in fichiers:\n",
    "\n",
    "    # Traiter uniquement les fichiers .csv\n",
    "    if fichier.endswith(\".csv\"):\n",
    "        print(fichier)\n",
    "\n",
    "        # Lire le fichier csv et le stocker dans le dictionnaire\n",
    "        data_brut[fichier] = pd.read_csv(\n",
    "            chemin + fichier,\n",
    "            sep=\",\",\n",
    "            encoding=\"utf-8\"\n",
    "        )"
   ]
  },
  {
   "cell_type": "markdown",
   "metadata": {},
   "source": [
    "# <span style='background:blue'>Etape 1 : Description des données</span>\n",
    "\n",
    "## <span style='background:green'>1/ Nom</span>\n",
    "\n",
    "### <span style='background:black'>a/ Sous-nom</span>"
   ]
  },
  {
   "cell_type": "code",
   "execution_count": null,
   "metadata": {},
   "outputs": [],
   "source": []
  },
  {
   "cell_type": "markdown",
   "metadata": {},
   "source": [
    "<div class=\"alert alert-block alert-success\"><b>Bilan: </b> <br>\n",
    "ici"
   ]
  }
 ],
 "metadata": {
  "kernelspec": {
   "display_name": "env",
   "language": "python",
   "name": "python3"
  },
  "language_info": {
   "name": "python",
   "version": "3.11.7"
  }
 },
 "nbformat": 4,
 "nbformat_minor": 2
}
