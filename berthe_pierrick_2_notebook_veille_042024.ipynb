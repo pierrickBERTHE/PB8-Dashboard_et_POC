{
 "cells": [
  {
   "cell_type": "markdown",
   "metadata": {},
   "source": [
    "# <span style='color:SteelBlue'>P8 - Réalisez un dashboard et assurez une veille technique</span>"
   ]
  },
  {
   "cell_type": "markdown",
   "metadata": {},
   "source": [
    "# <span style='background:red; color:black'>a MAJ</span>\n",
    "\n",
    "# <span style='background:white; color:black'>Sommaire</span>\n",
    "\n",
    "Importations des librairies<br>\n",
    "\n",
    "Paramètres d'affichage<br>\n",
    "\n",
    "Fonctions <br>\n",
    "\n",
    "Importation des donnees <br>\n",
    "\n",
    "**Etape 1 : Description des donnees**\n",
    "- _1/ etc..._\n",
    "\n",
    "\n",
    "Conclusion"
   ]
  },
  {
   "cell_type": "markdown",
   "metadata": {},
   "source": [
    "# <span style='background:blue'>Introduction</span>\n",
    "\n",
    "Ce notebook présente une preuve de concept (POC) pour un nouvelle méthode de classification d'image en Computer Vision.\n",
    "___\n",
    "\n",
    "**Source des datasets**<br>\n",
    "Source : Non précisé<br>\n",
    "\n",
    "Le dataset est présenté comme un dataset de l'entreprise **\"Flipkart\"** qui est une entreprise indienne qui souhaite lancer une marketplace e-commerce."
   ]
  },
  {
   "cell_type": "markdown",
   "metadata": {},
   "source": [
    "# <span style='background:grey'>Importations des librairies</span>"
   ]
  },
  {
   "cell_type": "markdown",
   "metadata": {},
   "source": [
    "La cellule ci-dessous permet d'importer les librairies necessaires lors de l'utilisation de Google Colab."
   ]
  },
  {
   "cell_type": "code",
   "execution_count": 1,
   "metadata": {},
   "outputs": [],
   "source": [
    "# # pip install pour Google Colab\n",
    "# %pip install ultralytics"
   ]
  },
  {
   "cell_type": "code",
   "execution_count": 2,
   "metadata": {},
   "outputs": [],
   "source": [
    "# # Pour Google Colab\n",
    "# from google.colab import drive\n",
    "# drive.mount('/content/drive')\n",
    "# print(\"\\nConnecté à Google Drive\\n\")"
   ]
  },
  {
   "cell_type": "markdown",
   "metadata": {},
   "source": [
    "Liste des imports généraux :"
   ]
  },
  {
   "cell_type": "code",
   "execution_count": 3,
   "metadata": {},
   "outputs": [
    {
     "name": "stdout",
     "output_type": "stream",
     "text": [
      "Interpréteur python :\n",
      "Python        : 3.11.5 (tags/v3.11.5:cce6ba9, Aug 24 2023, 14:38:34) [MSC v.1936 64 bit (AMD64)]\n",
      "\n",
      "Version des librairies utilisées :\n",
      "Matplotlib    : 3.8.4\n",
      "Mlflow        : 2.10.2\n",
      "NumPy         : 1.26.4\n",
      "Pandas        : 1.5.3\n",
      "Pytorch       : 2.3.0+cpu\n",
      "Scikit-learn  : 1.2.2\n",
      "Seaborn       : 0.13.2\n",
      "Tensorflow    : 2.16.1\n",
      "Ultralytics   : 8.2.7\n",
      "\n",
      "Code lance le : 2024-05-05T12:42:00.989308\n",
      "\n"
     ]
    }
   ],
   "source": [
    "# Librairies generales\n",
    "import os.path\n",
    "import sys\n",
    "import time\n",
    "from datetime import datetime\n",
    "import pyopencl as cl\n",
    "import pickle\n",
    "import shutil\n",
    "\n",
    "# Librairies data science\n",
    "import matplotlib as mpl\n",
    "import matplotlib.pyplot as plt\n",
    "import numpy as np\n",
    "import pandas as pd\n",
    "import seaborn as sns\n",
    "import mlflow\n",
    "import torch\n",
    "from PIL import Image\n",
    "\n",
    "# deep learning\n",
    "import tensorflow as tf\n",
    "import sklearn\n",
    "from sklearn import metrics\n",
    "from keras.models import load_model, Model\n",
    "from sklearn.model_selection import train_test_split\n",
    "from keras.utils import to_categorical\n",
    "from keras.layers import GlobalAveragePooling2D, Dense, Dropout\n",
    "\n",
    "# VGG16\n",
    "from keras.preprocessing.image import load_img, img_to_array\n",
    "from keras.applications.vgg16 import preprocess_input\n",
    "from keras.applications.vgg16 import VGG16\n",
    "from plot_keras_history import show_history\n",
    "\n",
    "# YOLO\n",
    "import ultralytics\n",
    "from ultralytics import YOLO\n",
    "\n",
    "# Affichage plot dans le notebook\n",
    "%matplotlib inline\n",
    "\n",
    "# Versions\n",
    "print(\"Interpréteur python :\")\n",
    "print(\"Python        : \" + sys.version + \"\\n\")\n",
    "\n",
    "print(\"Version des librairies utilisées :\")\n",
    "print(\"Matplotlib    : \" + mpl.__version__)\n",
    "print(\"Mlflow        : \" + mlflow.__version__)\n",
    "print(\"NumPy         : \" + np.version.full_version)\n",
    "print(\"Pandas        : \" + pd.__version__)\n",
    "print(\"Pytorch       : \" + torch.__version__)\n",
    "print(\"Scikit-learn  : \" + sklearn.__version__)\n",
    "print(\"Seaborn       : \" + sns.__version__)\n",
    "print(\"Tensorflow    : \" + tf.__version__)\n",
    "print(\"Ultralytics   : \" + ultralytics.__version__)\n",
    "\n",
    "# Afficher heure lancement\n",
    "maintenant = datetime.now().isoformat()\n",
    "print(\"\\nCode lance le : \" + maintenant)\n",
    "\n",
    "# Enregistrer l'heure de debut\n",
    "start_time = time.time()\n",
    "\n",
    "# Activer la verification PEP8\n",
    "print(\"\")\n",
    "%load_ext pycodestyle_magic\n",
    "%pycodestyle_on"
   ]
  },
  {
   "cell_type": "markdown",
   "metadata": {},
   "source": [
    "# <span style='background:grey'>Paramètres d'affichage</span>"
   ]
  },
  {
   "cell_type": "code",
   "execution_count": 133,
   "metadata": {},
   "outputs": [],
   "source": [
    "# nombre ligne, col et chiffre apres la virgule\n",
    "pd.set_option(\"display.max_row\", 50)\n",
    "pd.set_option(\"display.max_column\", 50)\n",
    "pd.set_option(\"display.precision\", 2)\n",
    "\n",
    "# Graine aléatoire\n",
    "random_seed = 42\n",
    "\n",
    "# Fixer la graine pour Python Numpy et Tensorflow\n",
    "np.random.seed(random_seed)\n",
    "tf.random.set_seed(random_seed)\n",
    "\n",
    "# Augmenter la limite de pixels à une valeur plus grande\n",
    "Image.MAX_IMAGE_PIXELS = 1_000_000_000"
   ]
  },
  {
   "cell_type": "markdown",
   "metadata": {},
   "source": [
    "# <span style='background:grey'>Fonctions</span>\n"
   ]
  },
  {
   "cell_type": "code",
   "execution_count": 5,
   "metadata": {},
   "outputs": [],
   "source": [
    "def calculer_duree_notebook(start_time):\n",
    "    \"\"\"\n",
    "    Cette procédure calcule et affiche la durée d'éxécution du notebook.\n",
    "\n",
    "    Args:\n",
    "        start_time (float): Le temps de début en secondes depuis l'époque.\n",
    "\n",
    "    Returns:\n",
    "        None\n",
    "    \"\"\"\n",
    "    # Calculer la durée totale et convertir en minutes et secondes\n",
    "    minutes, seconds = divmod(time.time() - start_time, 60)\n",
    "\n",
    "    # Afficher la durée totale\n",
    "    print(f\"Durée execution notebook : {int(minutes)} min {int(seconds)} sec\")"
   ]
  },
  {
   "cell_type": "code",
   "execution_count": 6,
   "metadata": {},
   "outputs": [],
   "source": [
    "def connect_to_tpu():\n",
    "    \"\"\"\n",
    "    Cette fonction tente de se connecter à un TPU (Tensor Processing Unit)\n",
    "    disponible.\n",
    "\n",
    "    Elle utilise l'API TensorFlow pour résoudre un TPU, se connecter à\n",
    "    celui-ci et l'initialiser.\n",
    "    Si la connexion est réussie, elle crée une stratégie de distribution\n",
    "    pour le TPU et affiche un message de confirmation.\n",
    "    Si la connexion échoue, elle affiche un message d'erreur.\n",
    "\n",
    "    Lève :\n",
    "        BaseException: Si aucune connexion TPU n'est disponible.\n",
    "    \"\"\"\n",
    "    try:\n",
    "        tpu = tf.distribute.cluster_resolver.TPUClusterResolver()\n",
    "        print('Execution sur TPU ', tpu.cluster_spec().as_dict()['worker'])\n",
    "    except ValueError:\n",
    "        raise BaseException('ERREUR: Non connecté à un TPU runtime')\n",
    "\n",
    "    if tpu:\n",
    "        tf.config.experimental_connect_to_cluster(tpu)\n",
    "        tf.tpu.experimental.initialize_tpu_system(tpu)\n",
    "        tpu_strategy = tf.distribute.TPUStrategy(tpu)\n",
    "        print('Connecté à un TPU')\n",
    "    else:\n",
    "        print('Pas connecté à un TPU')"
   ]
  },
  {
   "cell_type": "code",
   "execution_count": 7,
   "metadata": {},
   "outputs": [],
   "source": [
    "def get_available_amd_gpus():\n",
    "    \"\"\"\n",
    "    Cette fonction renvoie une liste des GPU AMD disponibles sur la machine.\n",
    "\n",
    "    Elle utilise la bibliothèque pyopencl pour obtenir une liste des\n",
    "    plateformes disponibles, puis vérifie chaque plateforme pour voir si elle\n",
    "    est fournie par AMD.\n",
    "    Si c'est le cas, elle vérifie chaque device sur la plateforme pour voir\n",
    "    s'il s'agit d'un GPU, et si c'est le cas, elle l'ajoute à la liste des GPU.\n",
    "\n",
    "    Retourne :\n",
    "        Une liste des objets pyopencl.Device pour les GPU AMD disponibles.\n",
    "    \"\"\"\n",
    "    # Définir le nom du vendeur AMD\n",
    "    amd_vendor = 'Advanced Micro Devices, Inc.'\n",
    "\n",
    "    # Obtenir une liste de toutes les plateformes disponibles\n",
    "    platforms = cl.get_platforms()\n",
    "\n",
    "    # Initialiser une liste vide pour stocker les GPU AMD\n",
    "    gpu_devices = [\n",
    "        device\n",
    "        for platform in platforms\n",
    "        if platform.get_info(cl.platform_info.VENDOR) == amd_vendor\n",
    "        for device in platform.get_devices()\n",
    "        if device.type == cl.device_type.GPU\n",
    "        ]\n",
    "\n",
    "    # Retourner la liste des GPU AMD\n",
    "    return gpu_devices"
   ]
  },
  {
   "cell_type": "code",
   "execution_count": 8,
   "metadata": {},
   "outputs": [],
   "source": [
    "def connect_to_local_gpu():\n",
    "    \"\"\"\n",
    "    Cette fonction tente de se connecter aux GPU (Graphics Processing Units)\n",
    "    AMD disponibles sur la machine locale.\n",
    "\n",
    "    Elle utilise la fonction `get_available_amd_gpus` pour obtenir une liste\n",
    "    des GPU AMD disponibles,\n",
    "    puis affiche un message indiquant que l'exécution se fait sur un PC local\n",
    "    et le nombre de GPU disponibles.\n",
    "\n",
    "    \"\"\"\n",
    "    amd_gpus = get_available_amd_gpus()\n",
    "    print(\"Execution sur PC local\")\n",
    "    print(\"Nombre de GPU disponible(s) : \", len(amd_gpus), \"\\n\")"
   ]
  },
  {
   "cell_type": "code",
   "execution_count": 9,
   "metadata": {},
   "outputs": [],
   "source": [
    "def affiche_heatmap(y, nom_y):\n",
    "    \"\"\"\n",
    "    Crée un heatmap des labels y.\n",
    "\n",
    "    Parameters:\n",
    "    y (numpy.array): Un array numpy contenant les labels à visualiser.\n",
    "    nom_y (str): Le nom de la variable y.\n",
    "\n",
    "    Returns:\n",
    "    None\n",
    "    \"\"\"\n",
    "    sns.heatmap(y)\n",
    "    plt.title(f'Heatmap \"{nom_y}\"')\n",
    "    plt.xlabel('Catégories')\n",
    "    plt.ylabel('Image')\n",
    "    plt.show()"
   ]
  },
  {
   "cell_type": "code",
   "execution_count": 10,
   "metadata": {},
   "outputs": [],
   "source": [
    "def pretraitement_image_vgg16(data):\n",
    "    \"\"\"\n",
    "    Cette fonction prépare les images pour l'entraînement d'un modèle de\n",
    "    machine learning  de type VGG-16.\n",
    "\n",
    "    Paramètres :\n",
    "    data (DataFrame) : DataFrame contenant les chemins d'accès aux images\n",
    "\n",
    "    Retourne :\n",
    "    prepared_images_np (ndarray) : Tableau NumPy des images préparées.\n",
    "    \"\"\"\n",
    "\n",
    "    # Initialisation de la liste pour stocker les images préparées\n",
    "    prepared_images = []\n",
    "\n",
    "    # Parcours de chaque chemin d'image dans data\n",
    "    for image_num in range(len(data)):\n",
    "\n",
    "        # Chargement et redimensionnement de l'image en 224 x 224 pixels\n",
    "        img = (load_img(data[image_num], target_size=(224, 224)))\n",
    "\n",
    "        # Conversion de l'image en tableau NumPy\n",
    "        img = img_to_array(img)\n",
    "\n",
    "        # Redimensionnement tableau de l'image pour certifier les 3 dimensions\n",
    "        img = img.reshape((img.shape[0], img.shape[1], img.shape[2]))\n",
    "\n",
    "        # Pré-traitement specifique à VGG-16\n",
    "        img = preprocess_input(img)\n",
    "\n",
    "        # Ajout de l'image préparée à la liste\n",
    "        prepared_images.append(img)\n",
    "\n",
    "    # Conversion de la liste en tableau NumPy\n",
    "    prepared_images_np = np.array(prepared_images)\n",
    "\n",
    "    return prepared_images_np"
   ]
  },
  {
   "cell_type": "code",
   "execution_count": 118,
   "metadata": {},
   "outputs": [],
   "source": [
    "def creer_df_results(history_dict, nb_epoch, nom_model, accuracy_test):\n",
    "    \"\"\"\n",
    "    Cette fonction crée un DataFrame à partir de l'historique de l'entraînement\n",
    "    du modèle, ajoute les temps d'entraînement, le nombre d'époques comme\n",
    "    colonnes et le nom du modèle en index.\n",
    "\n",
    "    Paramètres :\n",
    "    - history_dict (dict) : Dictionnaire contenant l'historique de\n",
    "    l'entraînement du modèle optimal et le temps d'exécution\n",
    "    - nb_epoch (int) : Nombre d'époques d'entraînement\n",
    "    - nom_model (str) : Nom du modèle.\n",
    "    - accuracy_test (float) : Précision du modèle sur les données de test.\n",
    "\n",
    "    Retourne :\n",
    "    - df_results (df) : DataFrame contenant les résultats du modèle\n",
    "    \"\"\"\n",
    "\n",
    "    df_results = pd.DataFrame(\n",
    "        {\n",
    "            'Test Accuracy': accuracy_test,\n",
    "            'Temps (sec)': history_dict['temps_train'],\n",
    "            'Epochs': nb_epoch\n",
    "        },\n",
    "        index=[nom_model]\n",
    "    )\n",
    "\n",
    "    return df_results"
   ]
  },
  {
   "cell_type": "code",
   "execution_count": 12,
   "metadata": {},
   "outputs": [],
   "source": [
    "def copy_images(X, y, folder, correspondence):\n",
    "    \"\"\"\n",
    "    Copie les images dans les dossiers correspondants.\n",
    "\n",
    "    Paramètres :\n",
    "    X : Liste des chemins des images.\n",
    "    y : Liste des labels correspondants aux images.\n",
    "    folder : nom dossier où copier les images (par exemple,'train' ou 'val').\n",
    "    correspondence : df contenant la correspondance entre labels/product_name\n",
    "    \"\"\"\n",
    "    # POUR chaque image et son label\n",
    "    for image_path, label in zip(X, y):\n",
    "\n",
    "        # Récupérer le label correspondant (enlever espace à la fin)\n",
    "        label_str = correspondence.loc[label].index[0].rstrip()\n",
    "\n",
    "        # Créer le dossier pour le label s'il n'existe pas déjà\n",
    "        os.makedirs(f'data/cleaned/{folder}/{label_str}', exist_ok=True)\n",
    "\n",
    "        # Copier l'image dans le dossier correspondant\n",
    "        shutil.copy(image_path, f'data/cleaned/{folder}/{label_str}')"
   ]
  },
  {
   "cell_type": "code",
   "execution_count": 68,
   "metadata": {},
   "outputs": [],
   "source": [
    "def conf_mat_transform_argmax(y_true, y_pred):\n",
    "    \"\"\"\n",
    "    Transforme les labels prédits en utilisant la valeur maximale de chaque\n",
    "    colonne.\n",
    "\n",
    "    Paramètres:\n",
    "    y_true (array-like): Les vrais labels.\n",
    "    y_pred (array-like): Les labels prédits.\n",
    "\n",
    "    Retourne:\n",
    "    y_pred_transform (Series): Les labels prédits transformés.\n",
    "    \"\"\"\n",
    "\n",
    "    # Calculer la matrice de confusion\n",
    "    conf_mat = metrics.confusion_matrix(y_true, y_pred)\n",
    "\n",
    "    # Calcule les correspondances (valeurs max de chaque colonne)\n",
    "    corresp = np.argmax(conf_mat, axis=0)\n",
    "    print(\"\\nCorrespondance des clusters : \", corresp)\n",
    "\n",
    "    # Créer un DataFrame avec les vrais labels et les labels prédits\n",
    "    labels = pd.Series(y_true, name=\"y_true\").to_frame()\n",
    "    labels['y_pred'] = y_pred\n",
    "\n",
    "    # Transformer les labels prédits en utilisant la correspondance\n",
    "    labels['y_pred_transform'] = labels['y_pred'].apply(\n",
    "        lambda x: corresp[x] if x < len(corresp) else x)\n",
    "\n",
    "    # Retourner les labels prédits transformés\n",
    "    return labels['y_pred_transform']"
   ]
  },
  {
   "cell_type": "code",
   "execution_count": 115,
   "metadata": {},
   "outputs": [],
   "source": [
    "def matrice_conf_et_rapport(y_val_num, y_val_pred_transform, categories):\n",
    "    \"\"\"\n",
    "    Affiche la matrice de confusion pour les valeurs prédites et réelles.\n",
    "\n",
    "    Paramètres:\n",
    "    y_val_num (array): Les valeurs réelles.\n",
    "    y_val_pred_transform (array): Les valeurs prédites.\n",
    "    categories (list): Les catégories pour les axes de la matrice de confusion.\n",
    "\n",
    "    Retourne:\n",
    "    conf_mat_trans_df (DataFrame): La matrice de confusion.\n",
    "    \"\"\"\n",
    "    # Creer la matrice de confusion\n",
    "    conf_mat = metrics.confusion_matrix(y_val_num, y_val_pred_transform)\n",
    "\n",
    "    # Transformation en dataFrame\n",
    "    conf_mat_trans_df = pd.DataFrame(\n",
    "        conf_mat,\n",
    "        index=[label for label in sorted(categories)],\n",
    "        columns=[label for label in sorted(categories)]\n",
    "        )\n",
    "\n",
    "    # Afficher la matrice de confusion\n",
    "    plt.figure(figsize=(6, 4))\n",
    "    sns.heatmap(conf_mat_trans_df, annot=True, cmap=\"Blues\")\n",
    "    plt.title('Matrice de confusion')\n",
    "    plt.xlabel('Catégories réelles')\n",
    "    plt.ylabel('Catégories prédites')\n",
    "    plt.xticks(rotation=45, ha='right')\n",
    "    plt.show()\n",
    "\n",
    "    return conf_mat_trans_df"
   ]
  },
  {
   "cell_type": "code",
   "execution_count": 107,
   "metadata": {},
   "outputs": [],
   "source": [
    "def plot_results_yolo(history_model_yolo):\n",
    "    \"\"\"\n",
    "    Procédure qui trace les courbes de perte (loss) et de précision (accuracy)\n",
    "    pour le modèle YOLO.\n",
    "\n",
    "    Paramètres :\n",
    "    history_model_yolo (dict): Dictionnaire contenant l'historique de\n",
    "    l'entraînement du modèle YOLO.\n",
    "    \"\"\"\n",
    "\n",
    "    # Récupérer les valeurs de la dernière époque\n",
    "    train_loss_last = (\n",
    "        history_model_yolo['history']['             train/loss'].iloc[-1]\n",
    "    )\n",
    "\n",
    "    val_loss_last = (\n",
    "        history_model_yolo['history']['               val/loss'].iloc[-1]\n",
    "    )\n",
    "\n",
    "    train_accuracy_last = (\n",
    "        history_model_yolo['history']['  metrics/accuracy_top1'].iloc[-1]\n",
    "    )\n",
    "\n",
    "    # Plot de loss\n",
    "    plt.figure()\n",
    "    plt.plot(\n",
    "        history_model_yolo['history']['                  epoch'],\n",
    "        history_model_yolo['history']['             train/loss'],\n",
    "        label=f\"Train last value : {train_loss_last:.4f}\"\n",
    "    )\n",
    "\n",
    "    plt.plot(\n",
    "        history_model_yolo['history']['                  epoch'],\n",
    "        history_model_yolo['history']['               val/loss'],\n",
    "        label=f'Test last value : {val_loss_last:.4f}',\n",
    "        c='red'\n",
    "    )\n",
    "\n",
    "    plt.grid()\n",
    "    plt.title('Loss')\n",
    "    plt.ylabel('loss')\n",
    "    plt.xlabel('epochs')\n",
    "    plt.legend()\n",
    "\n",
    "    # Plot accuracy\n",
    "    plt.figure()\n",
    "    plt.plot(\n",
    "        history_model_yolo['history']['                  epoch'],\n",
    "        history_model_yolo['history']['  metrics/accuracy_top1'],\n",
    "        label=f'Train last value : {train_accuracy_last:.4f}',\n",
    "\n",
    "    )\n",
    "    plt.grid()\n",
    "    plt.title('Accuracy')\n",
    "    plt.ylabel('Accuracy (%)')\n",
    "    plt.xlabel('epochs')\n",
    "    plt.legend()\n",
    "\n",
    "    plt.show()"
   ]
  },
  {
   "cell_type": "markdown",
   "metadata": {},
   "source": [
    "# <span style='background:blue'>Etape 1 : Importation des données</span>\n",
    "\n",
    "Importation des fichiers CSV avec Pandas"
   ]
  },
  {
   "cell_type": "code",
   "execution_count": 13,
   "metadata": {},
   "outputs": [
    {
     "name": "stdout",
     "output_type": "stream",
     "text": [
      "\n",
      "===> fichier 'flipkart_com-ecommerce_sample_1050.csv' importé: <====\n",
      "\n"
     ]
    },
    {
     "data": {
      "text/html": [
       "<div>\n",
       "<style scoped>\n",
       "    .dataframe tbody tr th:only-of-type {\n",
       "        vertical-align: middle;\n",
       "    }\n",
       "\n",
       "    .dataframe tbody tr th {\n",
       "        vertical-align: top;\n",
       "    }\n",
       "\n",
       "    .dataframe thead th {\n",
       "        text-align: right;\n",
       "    }\n",
       "</style>\n",
       "<table border=\"1\" class=\"dataframe\">\n",
       "  <thead>\n",
       "    <tr style=\"text-align: right;\">\n",
       "      <th></th>\n",
       "      <th>uniq_id</th>\n",
       "      <th>crawl_timestamp</th>\n",
       "      <th>product_url</th>\n",
       "      <th>product_name</th>\n",
       "      <th>product_category_tree</th>\n",
       "      <th>pid</th>\n",
       "      <th>retail_price</th>\n",
       "      <th>discounted_price</th>\n",
       "      <th>image</th>\n",
       "      <th>is_FK_Advantage_product</th>\n",
       "      <th>description</th>\n",
       "      <th>product_rating</th>\n",
       "      <th>overall_rating</th>\n",
       "      <th>brand</th>\n",
       "      <th>product_specifications</th>\n",
       "    </tr>\n",
       "  </thead>\n",
       "  <tbody>\n",
       "    <tr>\n",
       "      <th>0</th>\n",
       "      <td>55b85ea15a1536d46b7190ad6fff8ce7</td>\n",
       "      <td>2016-04-30 03:22:56 +0000</td>\n",
       "      <td>http://www.flipkart.com/elegance-polyester-mul...</td>\n",
       "      <td>Elegance Polyester Multicolor Abstract Eyelet ...</td>\n",
       "      <td>[\"Home Furnishing &gt;&gt; Curtains &amp; Accessories &gt;&gt;...</td>\n",
       "      <td>CRNEG7BKMFFYHQ8Z</td>\n",
       "      <td>1899.0</td>\n",
       "      <td>899.0</td>\n",
       "      <td>55b85ea15a1536d46b7190ad6fff8ce7.jpg</td>\n",
       "      <td>False</td>\n",
       "      <td>Key Features of Elegance Polyester Multicolor ...</td>\n",
       "      <td>No rating available</td>\n",
       "      <td>No rating available</td>\n",
       "      <td>Elegance</td>\n",
       "      <td>{\"product_specification\"=&gt;[{\"key\"=&gt;\"Brand\", \"v...</td>\n",
       "    </tr>\n",
       "    <tr>\n",
       "      <th>1</th>\n",
       "      <td>7b72c92c2f6c40268628ec5f14c6d590</td>\n",
       "      <td>2016-04-30 03:22:56 +0000</td>\n",
       "      <td>http://www.flipkart.com/sathiyas-cotton-bath-t...</td>\n",
       "      <td>Sathiyas Cotton Bath Towel</td>\n",
       "      <td>[\"Baby Care &gt;&gt; Baby Bath &amp; Skin &gt;&gt; Baby Bath T...</td>\n",
       "      <td>BTWEGFZHGBXPHZUH</td>\n",
       "      <td>600.0</td>\n",
       "      <td>449.0</td>\n",
       "      <td>7b72c92c2f6c40268628ec5f14c6d590.jpg</td>\n",
       "      <td>False</td>\n",
       "      <td>Specifications of Sathiyas Cotton Bath Towel (...</td>\n",
       "      <td>No rating available</td>\n",
       "      <td>No rating available</td>\n",
       "      <td>Sathiyas</td>\n",
       "      <td>{\"product_specification\"=&gt;[{\"key\"=&gt;\"Machine Wa...</td>\n",
       "    </tr>\n",
       "    <tr>\n",
       "      <th>2</th>\n",
       "      <td>64d5d4a258243731dc7bbb1eef49ad74</td>\n",
       "      <td>2016-04-30 03:22:56 +0000</td>\n",
       "      <td>http://www.flipkart.com/eurospa-cotton-terry-f...</td>\n",
       "      <td>Eurospa Cotton Terry Face Towel Set</td>\n",
       "      <td>[\"Baby Care &gt;&gt; Baby Bath &amp; Skin &gt;&gt; Baby Bath T...</td>\n",
       "      <td>BTWEG6SHXTDB2A2Y</td>\n",
       "      <td>NaN</td>\n",
       "      <td>NaN</td>\n",
       "      <td>64d5d4a258243731dc7bbb1eef49ad74.jpg</td>\n",
       "      <td>False</td>\n",
       "      <td>Key Features of Eurospa Cotton Terry Face Towe...</td>\n",
       "      <td>No rating available</td>\n",
       "      <td>No rating available</td>\n",
       "      <td>Eurospa</td>\n",
       "      <td>{\"product_specification\"=&gt;[{\"key\"=&gt;\"Material\",...</td>\n",
       "    </tr>\n",
       "    <tr>\n",
       "      <th>3</th>\n",
       "      <td>d4684dcdc759dd9cdf41504698d737d8</td>\n",
       "      <td>2016-06-20 08:49:52 +0000</td>\n",
       "      <td>http://www.flipkart.com/santosh-royal-fashion-...</td>\n",
       "      <td>SANTOSH ROYAL FASHION Cotton Printed King size...</td>\n",
       "      <td>[\"Home Furnishing &gt;&gt; Bed Linen &gt;&gt; Bedsheets &gt;&gt;...</td>\n",
       "      <td>BDSEJT9UQWHDUBH4</td>\n",
       "      <td>2699.0</td>\n",
       "      <td>1299.0</td>\n",
       "      <td>d4684dcdc759dd9cdf41504698d737d8.jpg</td>\n",
       "      <td>False</td>\n",
       "      <td>Key Features of SANTOSH ROYAL FASHION Cotton P...</td>\n",
       "      <td>No rating available</td>\n",
       "      <td>No rating available</td>\n",
       "      <td>SANTOSH ROYAL FASHION</td>\n",
       "      <td>{\"product_specification\"=&gt;[{\"key\"=&gt;\"Brand\", \"v...</td>\n",
       "    </tr>\n",
       "    <tr>\n",
       "      <th>4</th>\n",
       "      <td>6325b6870c54cd47be6ebfbffa620ec7</td>\n",
       "      <td>2016-06-20 08:49:52 +0000</td>\n",
       "      <td>http://www.flipkart.com/jaipur-print-cotton-fl...</td>\n",
       "      <td>Jaipur Print Cotton Floral King sized Double B...</td>\n",
       "      <td>[\"Home Furnishing &gt;&gt; Bed Linen &gt;&gt; Bedsheets &gt;&gt;...</td>\n",
       "      <td>BDSEJTHNGWVGWWQU</td>\n",
       "      <td>2599.0</td>\n",
       "      <td>698.0</td>\n",
       "      <td>6325b6870c54cd47be6ebfbffa620ec7.jpg</td>\n",
       "      <td>False</td>\n",
       "      <td>Key Features of Jaipur Print Cotton Floral Kin...</td>\n",
       "      <td>No rating available</td>\n",
       "      <td>No rating available</td>\n",
       "      <td>Jaipur Print</td>\n",
       "      <td>{\"product_specification\"=&gt;[{\"key\"=&gt;\"Machine Wa...</td>\n",
       "    </tr>\n",
       "    <tr>\n",
       "      <th>...</th>\n",
       "      <td>...</td>\n",
       "      <td>...</td>\n",
       "      <td>...</td>\n",
       "      <td>...</td>\n",
       "      <td>...</td>\n",
       "      <td>...</td>\n",
       "      <td>...</td>\n",
       "      <td>...</td>\n",
       "      <td>...</td>\n",
       "      <td>...</td>\n",
       "      <td>...</td>\n",
       "      <td>...</td>\n",
       "      <td>...</td>\n",
       "      <td>...</td>\n",
       "      <td>...</td>\n",
       "    </tr>\n",
       "    <tr>\n",
       "      <th>1045</th>\n",
       "      <td>958f54f4c46b53c8a0a9b8167d9140bc</td>\n",
       "      <td>2015-12-01 10:15:43 +0000</td>\n",
       "      <td>http://www.flipkart.com/oren-empower-extra-lar...</td>\n",
       "      <td>Oren Empower Extra Large Self Adhesive Sticker</td>\n",
       "      <td>[\"Baby Care &gt;&gt; Baby &amp; Kids Gifts &gt;&gt; Stickers &gt;...</td>\n",
       "      <td>STIE88ZGTX65GH4V</td>\n",
       "      <td>1399.0</td>\n",
       "      <td>999.0</td>\n",
       "      <td>958f54f4c46b53c8a0a9b8167d9140bc.jpg</td>\n",
       "      <td>False</td>\n",
       "      <td>Oren Empower Extra Large Self Adhesive Sticker...</td>\n",
       "      <td>No rating available</td>\n",
       "      <td>No rating available</td>\n",
       "      <td>Oren Empower</td>\n",
       "      <td>{\"product_specification\"=&gt;[{\"key\"=&gt;\"Number of ...</td>\n",
       "    </tr>\n",
       "    <tr>\n",
       "      <th>1046</th>\n",
       "      <td>fd6cbcc22efb6b761bd564c28928483c</td>\n",
       "      <td>2015-12-01 10:15:43 +0000</td>\n",
       "      <td>http://www.flipkart.com/wallmantra-large-vinyl...</td>\n",
       "      <td>Wallmantra Large Vinyl Sticker Sticker</td>\n",
       "      <td>[\"Baby Care &gt;&gt; Baby &amp; Kids Gifts &gt;&gt; Stickers &gt;...</td>\n",
       "      <td>STIEC889ZD5GDCVQ</td>\n",
       "      <td>4930.0</td>\n",
       "      <td>1896.0</td>\n",
       "      <td>fd6cbcc22efb6b761bd564c28928483c.jpg</td>\n",
       "      <td>False</td>\n",
       "      <td>Wallmantra Large Vinyl Sticker Sticker (Pack o...</td>\n",
       "      <td>No rating available</td>\n",
       "      <td>No rating available</td>\n",
       "      <td>Wallmantra</td>\n",
       "      <td>{\"product_specification\"=&gt;[{\"key\"=&gt;\"Number of ...</td>\n",
       "    </tr>\n",
       "    <tr>\n",
       "      <th>1047</th>\n",
       "      <td>5912e037d12774bb73a2048f35a00009</td>\n",
       "      <td>2015-12-01 10:15:43 +0000</td>\n",
       "      <td>http://www.flipkart.com/uberlyfe-extra-large-p...</td>\n",
       "      <td>Uberlyfe Extra Large Pigmented Polyvinyl Films...</td>\n",
       "      <td>[\"Baby Care &gt;&gt; Baby &amp; Kids Gifts &gt;&gt; Stickers &gt;...</td>\n",
       "      <td>STIE5UVGW2JWVWCT</td>\n",
       "      <td>4500.0</td>\n",
       "      <td>1449.0</td>\n",
       "      <td>5912e037d12774bb73a2048f35a00009.jpg</td>\n",
       "      <td>False</td>\n",
       "      <td>Buy Uberlyfe Extra Large Pigmented Polyvinyl F...</td>\n",
       "      <td>No rating available</td>\n",
       "      <td>No rating available</td>\n",
       "      <td>Uberlyfe</td>\n",
       "      <td>{\"product_specification\"=&gt;[{\"key\"=&gt;\"Number of ...</td>\n",
       "    </tr>\n",
       "    <tr>\n",
       "      <th>1048</th>\n",
       "      <td>c3edc504d1b4f0ba6224fa53a43a7ad6</td>\n",
       "      <td>2015-12-01 10:15:43 +0000</td>\n",
       "      <td>http://www.flipkart.com/wallmantra-medium-viny...</td>\n",
       "      <td>Wallmantra Medium Vinyl Sticker Sticker</td>\n",
       "      <td>[\"Baby Care &gt;&gt; Baby &amp; Kids Gifts &gt;&gt; Stickers &gt;...</td>\n",
       "      <td>STIEC889ZGFD3RCE</td>\n",
       "      <td>3465.0</td>\n",
       "      <td>1333.0</td>\n",
       "      <td>c3edc504d1b4f0ba6224fa53a43a7ad6.jpg</td>\n",
       "      <td>False</td>\n",
       "      <td>Buy Wallmantra Medium Vinyl Sticker Sticker fo...</td>\n",
       "      <td>No rating available</td>\n",
       "      <td>No rating available</td>\n",
       "      <td>Wallmantra</td>\n",
       "      <td>{\"product_specification\"=&gt;[{\"key\"=&gt;\"Number of ...</td>\n",
       "    </tr>\n",
       "    <tr>\n",
       "      <th>1049</th>\n",
       "      <td>f2f027ad6a6df617c9f125173da71e44</td>\n",
       "      <td>2015-12-01 10:15:43 +0000</td>\n",
       "      <td>http://www.flipkart.com/uberlyfe-large-vinyl-s...</td>\n",
       "      <td>Uberlyfe Large Vinyl Sticker</td>\n",
       "      <td>[\"Baby Care &gt;&gt; Baby &amp; Kids Gifts &gt;&gt; Stickers &gt;...</td>\n",
       "      <td>STIE2ZEPACRQJKH7</td>\n",
       "      <td>1190.0</td>\n",
       "      <td>595.0</td>\n",
       "      <td>f2f027ad6a6df617c9f125173da71e44.jpg</td>\n",
       "      <td>False</td>\n",
       "      <td>Buy Uberlyfe Large Vinyl Sticker for Rs.595 on...</td>\n",
       "      <td>4</td>\n",
       "      <td>4</td>\n",
       "      <td>Uberlyfe</td>\n",
       "      <td>{\"product_specification\"=&gt;[{\"key\"=&gt;\"Sales Pack...</td>\n",
       "    </tr>\n",
       "  </tbody>\n",
       "</table>\n",
       "<p>1050 rows × 15 columns</p>\n",
       "</div>"
      ],
      "text/plain": [
       "                               uniq_id            crawl_timestamp  \\\n",
       "0     55b85ea15a1536d46b7190ad6fff8ce7  2016-04-30 03:22:56 +0000   \n",
       "1     7b72c92c2f6c40268628ec5f14c6d590  2016-04-30 03:22:56 +0000   \n",
       "2     64d5d4a258243731dc7bbb1eef49ad74  2016-04-30 03:22:56 +0000   \n",
       "3     d4684dcdc759dd9cdf41504698d737d8  2016-06-20 08:49:52 +0000   \n",
       "4     6325b6870c54cd47be6ebfbffa620ec7  2016-06-20 08:49:52 +0000   \n",
       "...                                ...                        ...   \n",
       "1045  958f54f4c46b53c8a0a9b8167d9140bc  2015-12-01 10:15:43 +0000   \n",
       "1046  fd6cbcc22efb6b761bd564c28928483c  2015-12-01 10:15:43 +0000   \n",
       "1047  5912e037d12774bb73a2048f35a00009  2015-12-01 10:15:43 +0000   \n",
       "1048  c3edc504d1b4f0ba6224fa53a43a7ad6  2015-12-01 10:15:43 +0000   \n",
       "1049  f2f027ad6a6df617c9f125173da71e44  2015-12-01 10:15:43 +0000   \n",
       "\n",
       "                                            product_url  \\\n",
       "0     http://www.flipkart.com/elegance-polyester-mul...   \n",
       "1     http://www.flipkart.com/sathiyas-cotton-bath-t...   \n",
       "2     http://www.flipkart.com/eurospa-cotton-terry-f...   \n",
       "3     http://www.flipkart.com/santosh-royal-fashion-...   \n",
       "4     http://www.flipkart.com/jaipur-print-cotton-fl...   \n",
       "...                                                 ...   \n",
       "1045  http://www.flipkart.com/oren-empower-extra-lar...   \n",
       "1046  http://www.flipkart.com/wallmantra-large-vinyl...   \n",
       "1047  http://www.flipkart.com/uberlyfe-extra-large-p...   \n",
       "1048  http://www.flipkart.com/wallmantra-medium-viny...   \n",
       "1049  http://www.flipkart.com/uberlyfe-large-vinyl-s...   \n",
       "\n",
       "                                           product_name  \\\n",
       "0     Elegance Polyester Multicolor Abstract Eyelet ...   \n",
       "1                            Sathiyas Cotton Bath Towel   \n",
       "2                   Eurospa Cotton Terry Face Towel Set   \n",
       "3     SANTOSH ROYAL FASHION Cotton Printed King size...   \n",
       "4     Jaipur Print Cotton Floral King sized Double B...   \n",
       "...                                                 ...   \n",
       "1045     Oren Empower Extra Large Self Adhesive Sticker   \n",
       "1046             Wallmantra Large Vinyl Sticker Sticker   \n",
       "1047  Uberlyfe Extra Large Pigmented Polyvinyl Films...   \n",
       "1048            Wallmantra Medium Vinyl Sticker Sticker   \n",
       "1049                       Uberlyfe Large Vinyl Sticker   \n",
       "\n",
       "                                  product_category_tree               pid  \\\n",
       "0     [\"Home Furnishing >> Curtains & Accessories >>...  CRNEG7BKMFFYHQ8Z   \n",
       "1     [\"Baby Care >> Baby Bath & Skin >> Baby Bath T...  BTWEGFZHGBXPHZUH   \n",
       "2     [\"Baby Care >> Baby Bath & Skin >> Baby Bath T...  BTWEG6SHXTDB2A2Y   \n",
       "3     [\"Home Furnishing >> Bed Linen >> Bedsheets >>...  BDSEJT9UQWHDUBH4   \n",
       "4     [\"Home Furnishing >> Bed Linen >> Bedsheets >>...  BDSEJTHNGWVGWWQU   \n",
       "...                                                 ...               ...   \n",
       "1045  [\"Baby Care >> Baby & Kids Gifts >> Stickers >...  STIE88ZGTX65GH4V   \n",
       "1046  [\"Baby Care >> Baby & Kids Gifts >> Stickers >...  STIEC889ZD5GDCVQ   \n",
       "1047  [\"Baby Care >> Baby & Kids Gifts >> Stickers >...  STIE5UVGW2JWVWCT   \n",
       "1048  [\"Baby Care >> Baby & Kids Gifts >> Stickers >...  STIEC889ZGFD3RCE   \n",
       "1049  [\"Baby Care >> Baby & Kids Gifts >> Stickers >...  STIE2ZEPACRQJKH7   \n",
       "\n",
       "      retail_price  discounted_price                                 image  \\\n",
       "0           1899.0             899.0  55b85ea15a1536d46b7190ad6fff8ce7.jpg   \n",
       "1            600.0             449.0  7b72c92c2f6c40268628ec5f14c6d590.jpg   \n",
       "2              NaN               NaN  64d5d4a258243731dc7bbb1eef49ad74.jpg   \n",
       "3           2699.0            1299.0  d4684dcdc759dd9cdf41504698d737d8.jpg   \n",
       "4           2599.0             698.0  6325b6870c54cd47be6ebfbffa620ec7.jpg   \n",
       "...            ...               ...                                   ...   \n",
       "1045        1399.0             999.0  958f54f4c46b53c8a0a9b8167d9140bc.jpg   \n",
       "1046        4930.0            1896.0  fd6cbcc22efb6b761bd564c28928483c.jpg   \n",
       "1047        4500.0            1449.0  5912e037d12774bb73a2048f35a00009.jpg   \n",
       "1048        3465.0            1333.0  c3edc504d1b4f0ba6224fa53a43a7ad6.jpg   \n",
       "1049        1190.0             595.0  f2f027ad6a6df617c9f125173da71e44.jpg   \n",
       "\n",
       "      is_FK_Advantage_product  \\\n",
       "0                       False   \n",
       "1                       False   \n",
       "2                       False   \n",
       "3                       False   \n",
       "4                       False   \n",
       "...                       ...   \n",
       "1045                    False   \n",
       "1046                    False   \n",
       "1047                    False   \n",
       "1048                    False   \n",
       "1049                    False   \n",
       "\n",
       "                                            description       product_rating  \\\n",
       "0     Key Features of Elegance Polyester Multicolor ...  No rating available   \n",
       "1     Specifications of Sathiyas Cotton Bath Towel (...  No rating available   \n",
       "2     Key Features of Eurospa Cotton Terry Face Towe...  No rating available   \n",
       "3     Key Features of SANTOSH ROYAL FASHION Cotton P...  No rating available   \n",
       "4     Key Features of Jaipur Print Cotton Floral Kin...  No rating available   \n",
       "...                                                 ...                  ...   \n",
       "1045  Oren Empower Extra Large Self Adhesive Sticker...  No rating available   \n",
       "1046  Wallmantra Large Vinyl Sticker Sticker (Pack o...  No rating available   \n",
       "1047  Buy Uberlyfe Extra Large Pigmented Polyvinyl F...  No rating available   \n",
       "1048  Buy Wallmantra Medium Vinyl Sticker Sticker fo...  No rating available   \n",
       "1049  Buy Uberlyfe Large Vinyl Sticker for Rs.595 on...                    4   \n",
       "\n",
       "           overall_rating                  brand  \\\n",
       "0     No rating available               Elegance   \n",
       "1     No rating available               Sathiyas   \n",
       "2     No rating available                Eurospa   \n",
       "3     No rating available  SANTOSH ROYAL FASHION   \n",
       "4     No rating available           Jaipur Print   \n",
       "...                   ...                    ...   \n",
       "1045  No rating available           Oren Empower   \n",
       "1046  No rating available             Wallmantra   \n",
       "1047  No rating available               Uberlyfe   \n",
       "1048  No rating available             Wallmantra   \n",
       "1049                    4               Uberlyfe   \n",
       "\n",
       "                                 product_specifications  \n",
       "0     {\"product_specification\"=>[{\"key\"=>\"Brand\", \"v...  \n",
       "1     {\"product_specification\"=>[{\"key\"=>\"Machine Wa...  \n",
       "2     {\"product_specification\"=>[{\"key\"=>\"Material\",...  \n",
       "3     {\"product_specification\"=>[{\"key\"=>\"Brand\", \"v...  \n",
       "4     {\"product_specification\"=>[{\"key\"=>\"Machine Wa...  \n",
       "...                                                 ...  \n",
       "1045  {\"product_specification\"=>[{\"key\"=>\"Number of ...  \n",
       "1046  {\"product_specification\"=>[{\"key\"=>\"Number of ...  \n",
       "1047  {\"product_specification\"=>[{\"key\"=>\"Number of ...  \n",
       "1048  {\"product_specification\"=>[{\"key\"=>\"Number of ...  \n",
       "1049  {\"product_specification\"=>[{\"key\"=>\"Sales Pack...  \n",
       "\n",
       "[1050 rows x 15 columns]"
      ]
     },
     "metadata": {},
     "output_type": "display_data"
    }
   ],
   "source": [
    "# chemin des fichiers\n",
    "chemin_data_source = \"data/source/\"\n",
    "chemin_data_cleaned = \"data/cleaned/\"\n",
    "chemin_model = \"modele_ML/\"\n",
    "\n",
    "# Nom du fichier\n",
    "nom_fichier_brut = \"flipkart_com-ecommerce_sample_1050.csv\"\n",
    "\n",
    "# Lire le fichier csv et le stocker dans le dictionnaire\n",
    "data_brut = pd.read_csv(\n",
    "    chemin_data_source + nom_fichier_brut,\n",
    "    sep=\",\",\n",
    "    encoding=\"utf-8\"\n",
    ")\n",
    "print(f\"\\n===> fichier '{nom_fichier_brut}' importé: <====\\n\")\n",
    "\n",
    "# Apercu du dataframe\n",
    "display(data_brut)"
   ]
  },
  {
   "cell_type": "markdown",
   "metadata": {},
   "source": [
    "<div class=\"alert alert-block alert-success\"><b>Bilan: </b>\n",
    "\n",
    "Le fichier **'flipkart_com-ecommerce_sample_1050'** contient 15 features \n",
    "concernant 1_050 produits vendus sur le site de e-commerce Flipkart.com.\n",
    "Les textes et images sont libres de droit.\n",
    "Un dossier contenant les images des produits est associé au fichier CSV.\n",
    "\n",
    "Les données timestamp ne sont pas dans un format de datetime standard.<br>\n",
    "Les données de score ne sont pas dans un format de nombre (str ou float).<br>\n",
    "Il manque le prix d'1 produit et le nom de la marque de 338 produits.<br>"
   ]
  },
  {
   "cell_type": "markdown",
   "metadata": {},
   "source": [
    "# <span style='background:blue'>Etape 2 : Informations pour le travail</span>\n",
    "\n",
    "## <span style='background:green'>1/ Disponibilité TPU/GPU</span>\n",
    "\n",
    "Nous affichons le nombre de TPU/GPU disponibles sur notre machine pour entrainer\n",
    "le modèle."
   ]
  },
  {
   "cell_type": "code",
   "execution_count": 14,
   "metadata": {},
   "outputs": [
    {
     "name": "stdout",
     "output_type": "stream",
     "text": [
      "Execution in Google Colab :  False \n",
      "\n",
      "Execution sur PC local\n",
      "Nombre de GPU disponible(s) :  1 \n",
      "\n",
      "Current directory : c:\\Users\\pierr\\VSC_Projects\\Projet8_OCR_DataScientist\n"
     ]
    }
   ],
   "source": [
    "# Vérifier si le code est exécuté dans Google Colab\n",
    "is_google_colab = 'COLAB_GPU' in os.environ\n",
    "print(\"Execution in Google Colab : \", is_google_colab, \"\\n\")\n",
    "\n",
    "# SI Google Colab ALORS Afficher le TPU\n",
    "if is_google_colab:\n",
    "    connect_to_tpu()\n",
    "\n",
    "# Afficher les GPU sur le PC en local\n",
    "else:\n",
    "    connect_to_local_gpu()\n",
    "\n",
    "# Afficher le répertoire courant\n",
    "print(\"Current directory :\", os.getcwd())"
   ]
  },
  {
   "cell_type": "markdown",
   "metadata": {},
   "source": [
    "## <span style='background:green'>2/ Modèle ML déjà calculé</span>\n",
    "\n",
    "Nous vérifions si les modèles de ML ont déjà été calculés, auquel cas, il n'est pas nécessaire de les calculer à nouveau mais il suffit de charger les fichiers.\n",
    "\n",
    "VGG16"
   ]
  },
  {
   "cell_type": "code",
   "execution_count": 15,
   "metadata": {},
   "outputs": [
    {
     "name": "stdout",
     "output_type": "stream",
     "text": [
      "Calcul a faire pour le modèle VGG-16.\n"
     ]
    }
   ],
   "source": [
    "# SI fichier history des modèles existe ALORS nous les chargeons\n",
    "if os.path.exists('./modele_ML/history_model_vgg16.pickle'):\n",
    "    is_modele_vgg16_calculed = True\n",
    "\n",
    "    # Modele\n",
    "    model_vgg16 = load_model('./modele_ML/model_vgg16.keras')\n",
    "\n",
    "    # History\n",
    "    with open(\"./modele_ML/history_model_vgg16.pickle\", 'rb') as f:\n",
    "        history_model_vgg16 = pickle.load(f)\n",
    "\n",
    "    print(\"Chargement history_model_vgg16 effectué.\")\n",
    "\n",
    "else:\n",
    "    is_modele_vgg16_calculed = False\n",
    "    print(\"Calcul a faire pour le modèle VGG-16.\")"
   ]
  },
  {
   "cell_type": "markdown",
   "metadata": {},
   "source": [
    "YOLO"
   ]
  },
  {
   "cell_type": "code",
   "execution_count": 16,
   "metadata": {},
   "outputs": [
    {
     "name": "stdout",
     "output_type": "stream",
     "text": [
      "Calcul a faire pour le modèle Yolo.\n"
     ]
    }
   ],
   "source": [
    "# SI fichier history des modèles existe ALORS nous les chargeons\n",
    "if os.path.exists('./modele_ML/history_model_yolo.pickle'):\n",
    "    is_modele_yolo_calculed = True\n",
    "\n",
    "    # Modele\n",
    "    model_yolo_trained = YOLO('runs/classify/train/weights/best.pt')\n",
    "\n",
    "    # History\n",
    "    with open(\"./modele_ML/history_model_yolo.pickle\", 'rb') as f:\n",
    "        history_model_yolo = pickle.load(f)\n",
    "\n",
    "    print(\"Chargement history_model_yolo effectué.\")\n",
    "\n",
    "else:\n",
    "    is_modele_yolo_calculed = False\n",
    "    print(\"Calcul a faire pour le modèle Yolo.\")"
   ]
  },
  {
   "cell_type": "markdown",
   "metadata": {},
   "source": [
    "# <span style='background:blue'>Etape 3 : Nettoyage des données</span>\n",
    "\n",
    "Lors d'un précédent projet, nous avons réaliser un nettoyage de ce dataset qui consitait à :\n",
    "- Sélectionner les 2 features d'intérêt (chemin des fichiers d'images et arborescence de catégorie des produits)\n",
    "- Détermination de la catégorie du produit à partir de l'arborescence\n",
    "- Modification du chemin des fichiers d'images pour correspondre à l'arborescence de notre dossier\n",
    "- Ajout d'une feature 'label' pour la catégorie du produit transformé par un LabelEncoder\n",
    "\n",
    "Le fichier ainsi nettoyé est enregistré sous le nom **'extraction_feature_image.csv'** est directement utilisé pour la suite de ce projet."
   ]
  },
  {
   "cell_type": "code",
   "execution_count": 17,
   "metadata": {},
   "outputs": [
    {
     "name": "stdout",
     "output_type": "stream",
     "text": [
      "\n",
      "===> fichier 'extraction_feature_image.csv' importé: <====\n",
      "\n"
     ]
    },
    {
     "data": {
      "text/html": [
       "<div>\n",
       "<style scoped>\n",
       "    .dataframe tbody tr th:only-of-type {\n",
       "        vertical-align: middle;\n",
       "    }\n",
       "\n",
       "    .dataframe tbody tr th {\n",
       "        vertical-align: top;\n",
       "    }\n",
       "\n",
       "    .dataframe thead th {\n",
       "        text-align: right;\n",
       "    }\n",
       "</style>\n",
       "<table border=\"1\" class=\"dataframe\">\n",
       "  <thead>\n",
       "    <tr style=\"text-align: right;\">\n",
       "      <th></th>\n",
       "      <th>image</th>\n",
       "      <th>product_name</th>\n",
       "      <th>label</th>\n",
       "    </tr>\n",
       "  </thead>\n",
       "  <tbody>\n",
       "    <tr>\n",
       "      <th>0</th>\n",
       "      <td>./data/source/Images/55b85ea15a1536d46b7190ad6...</td>\n",
       "      <td>Home Furnishing</td>\n",
       "      <td>4</td>\n",
       "    </tr>\n",
       "    <tr>\n",
       "      <th>1</th>\n",
       "      <td>./data/source/Images/7b72c92c2f6c40268628ec5f1...</td>\n",
       "      <td>Baby Care</td>\n",
       "      <td>0</td>\n",
       "    </tr>\n",
       "    <tr>\n",
       "      <th>2</th>\n",
       "      <td>./data/source/Images/64d5d4a258243731dc7bbb1ee...</td>\n",
       "      <td>Baby Care</td>\n",
       "      <td>0</td>\n",
       "    </tr>\n",
       "    <tr>\n",
       "      <th>3</th>\n",
       "      <td>./data/source/Images/d4684dcdc759dd9cdf4150469...</td>\n",
       "      <td>Home Furnishing</td>\n",
       "      <td>4</td>\n",
       "    </tr>\n",
       "    <tr>\n",
       "      <th>4</th>\n",
       "      <td>./data/source/Images/6325b6870c54cd47be6ebfbff...</td>\n",
       "      <td>Home Furnishing</td>\n",
       "      <td>4</td>\n",
       "    </tr>\n",
       "    <tr>\n",
       "      <th>...</th>\n",
       "      <td>...</td>\n",
       "      <td>...</td>\n",
       "      <td>...</td>\n",
       "    </tr>\n",
       "    <tr>\n",
       "      <th>1045</th>\n",
       "      <td>./data/source/Images/958f54f4c46b53c8a0a9b8167...</td>\n",
       "      <td>Baby Care</td>\n",
       "      <td>0</td>\n",
       "    </tr>\n",
       "    <tr>\n",
       "      <th>1046</th>\n",
       "      <td>./data/source/Images/fd6cbcc22efb6b761bd564c28...</td>\n",
       "      <td>Baby Care</td>\n",
       "      <td>0</td>\n",
       "    </tr>\n",
       "    <tr>\n",
       "      <th>1047</th>\n",
       "      <td>./data/source/Images/5912e037d12774bb73a2048f3...</td>\n",
       "      <td>Baby Care</td>\n",
       "      <td>0</td>\n",
       "    </tr>\n",
       "    <tr>\n",
       "      <th>1048</th>\n",
       "      <td>./data/source/Images/c3edc504d1b4f0ba6224fa53a...</td>\n",
       "      <td>Baby Care</td>\n",
       "      <td>0</td>\n",
       "    </tr>\n",
       "    <tr>\n",
       "      <th>1049</th>\n",
       "      <td>./data/source/Images/f2f027ad6a6df617c9f125173...</td>\n",
       "      <td>Baby Care</td>\n",
       "      <td>0</td>\n",
       "    </tr>\n",
       "  </tbody>\n",
       "</table>\n",
       "<p>1050 rows × 3 columns</p>\n",
       "</div>"
      ],
      "text/plain": [
       "                                                  image      product_name  \\\n",
       "0     ./data/source/Images/55b85ea15a1536d46b7190ad6...  Home Furnishing    \n",
       "1     ./data/source/Images/7b72c92c2f6c40268628ec5f1...        Baby Care    \n",
       "2     ./data/source/Images/64d5d4a258243731dc7bbb1ee...        Baby Care    \n",
       "3     ./data/source/Images/d4684dcdc759dd9cdf4150469...  Home Furnishing    \n",
       "4     ./data/source/Images/6325b6870c54cd47be6ebfbff...  Home Furnishing    \n",
       "...                                                 ...               ...   \n",
       "1045  ./data/source/Images/958f54f4c46b53c8a0a9b8167...        Baby Care    \n",
       "1046  ./data/source/Images/fd6cbcc22efb6b761bd564c28...        Baby Care    \n",
       "1047  ./data/source/Images/5912e037d12774bb73a2048f3...        Baby Care    \n",
       "1048  ./data/source/Images/c3edc504d1b4f0ba6224fa53a...        Baby Care    \n",
       "1049  ./data/source/Images/f2f027ad6a6df617c9f125173...        Baby Care    \n",
       "\n",
       "      label  \n",
       "0         4  \n",
       "1         0  \n",
       "2         0  \n",
       "3         4  \n",
       "4         4  \n",
       "...     ...  \n",
       "1045      0  \n",
       "1046      0  \n",
       "1047      0  \n",
       "1048      0  \n",
       "1049      0  \n",
       "\n",
       "[1050 rows x 3 columns]"
      ]
     },
     "metadata": {},
     "output_type": "display_data"
    }
   ],
   "source": [
    "# Nom du fichier\n",
    "nom_fichier_cleaned = \"extraction_feature_image.csv\"\n",
    "\n",
    "# Lire le fichier csv et le stocker dans le dictionnaire\n",
    "data_cleaned = pd.read_csv(\n",
    "    chemin_data_cleaned + nom_fichier_cleaned,\n",
    "    sep=\"\\t\",\n",
    "    encoding=\"utf-8\"\n",
    ")\n",
    "print(f\"\\n===> fichier '{nom_fichier_cleaned}' importé: <====\\n\")\n",
    "\n",
    "# Apercu du dataframe\n",
    "display(data_cleaned)"
   ]
  },
  {
   "cell_type": "markdown",
   "metadata": {},
   "source": [
    "Nous récupérons bien le fichier CSV d'extraction image contenant les informations sur les 1_050 images du dataset :\n",
    "- le chemin de l'image (nom du fichier inclus)\n",
    "- le texte de la catégorie de l'image\n",
    "- le label numérique de la catégorie de l'image"
   ]
  },
  {
   "cell_type": "markdown",
   "metadata": {},
   "source": [
    "### <span style='background:red; color:black'>DEV début</span>\n",
    "travail sur échantillion"
   ]
  },
  {
   "cell_type": "code",
   "execution_count": 18,
   "metadata": {},
   "outputs": [
    {
     "data": {
      "text/html": [
       "<div>\n",
       "<style scoped>\n",
       "    .dataframe tbody tr th:only-of-type {\n",
       "        vertical-align: middle;\n",
       "    }\n",
       "\n",
       "    .dataframe tbody tr th {\n",
       "        vertical-align: top;\n",
       "    }\n",
       "\n",
       "    .dataframe thead th {\n",
       "        text-align: right;\n",
       "    }\n",
       "</style>\n",
       "<table border=\"1\" class=\"dataframe\">\n",
       "  <thead>\n",
       "    <tr style=\"text-align: right;\">\n",
       "      <th></th>\n",
       "      <th>image</th>\n",
       "      <th>product_name</th>\n",
       "      <th>label</th>\n",
       "    </tr>\n",
       "  </thead>\n",
       "  <tbody>\n",
       "    <tr>\n",
       "      <th>352</th>\n",
       "      <td>./data/source/Images/833a87b0af3b84fe246d2ebf2...</td>\n",
       "      <td>Computers</td>\n",
       "      <td>2</td>\n",
       "    </tr>\n",
       "    <tr>\n",
       "      <th>689</th>\n",
       "      <td>./data/source/Images/55195de3873fffaa9e37b0415...</td>\n",
       "      <td>Kitchen &amp; Dining</td>\n",
       "      <td>5</td>\n",
       "    </tr>\n",
       "    <tr>\n",
       "      <th>485</th>\n",
       "      <td>./data/source/Images/44b963eb856b4831dfdd21b66...</td>\n",
       "      <td>Computers</td>\n",
       "      <td>2</td>\n",
       "    </tr>\n",
       "    <tr>\n",
       "      <th>388</th>\n",
       "      <td>./data/source/Images/98ad5b99ad96695568d8f143b...</td>\n",
       "      <td>Beauty and Personal Care</td>\n",
       "      <td>1</td>\n",
       "    </tr>\n",
       "    <tr>\n",
       "      <th>31</th>\n",
       "      <td>./data/source/Images/29b1ca231e10d5269516b80bf...</td>\n",
       "      <td>Watches</td>\n",
       "      <td>6</td>\n",
       "    </tr>\n",
       "    <tr>\n",
       "      <th>...</th>\n",
       "      <td>...</td>\n",
       "      <td>...</td>\n",
       "      <td>...</td>\n",
       "    </tr>\n",
       "    <tr>\n",
       "      <th>330</th>\n",
       "      <td>./data/source/Images/394c2c627914e1eed9b8ac343...</td>\n",
       "      <td>Computers</td>\n",
       "      <td>2</td>\n",
       "    </tr>\n",
       "    <tr>\n",
       "      <th>466</th>\n",
       "      <td>./data/source/Images/3bc98543c7dd0d8fce5b8185b...</td>\n",
       "      <td>Baby Care</td>\n",
       "      <td>0</td>\n",
       "    </tr>\n",
       "    <tr>\n",
       "      <th>121</th>\n",
       "      <td>./data/source/Images/7dd5e83e2108a97659577e508...</td>\n",
       "      <td>Baby Care</td>\n",
       "      <td>0</td>\n",
       "    </tr>\n",
       "    <tr>\n",
       "      <th>1044</th>\n",
       "      <td>./data/source/Images/be0f39341d771aac57084970f...</td>\n",
       "      <td>Baby Care</td>\n",
       "      <td>0</td>\n",
       "    </tr>\n",
       "    <tr>\n",
       "      <th>860</th>\n",
       "      <td>./data/source/Images/6136976dc5a433cdf8e2559b8...</td>\n",
       "      <td>Computers</td>\n",
       "      <td>2</td>\n",
       "    </tr>\n",
       "  </tbody>\n",
       "</table>\n",
       "<p>1050 rows × 3 columns</p>\n",
       "</div>"
      ],
      "text/plain": [
       "                                                  image  \\\n",
       "352   ./data/source/Images/833a87b0af3b84fe246d2ebf2...   \n",
       "689   ./data/source/Images/55195de3873fffaa9e37b0415...   \n",
       "485   ./data/source/Images/44b963eb856b4831dfdd21b66...   \n",
       "388   ./data/source/Images/98ad5b99ad96695568d8f143b...   \n",
       "31    ./data/source/Images/29b1ca231e10d5269516b80bf...   \n",
       "...                                                 ...   \n",
       "330   ./data/source/Images/394c2c627914e1eed9b8ac343...   \n",
       "466   ./data/source/Images/3bc98543c7dd0d8fce5b8185b...   \n",
       "121   ./data/source/Images/7dd5e83e2108a97659577e508...   \n",
       "1044  ./data/source/Images/be0f39341d771aac57084970f...   \n",
       "860   ./data/source/Images/6136976dc5a433cdf8e2559b8...   \n",
       "\n",
       "                   product_name  label  \n",
       "352                  Computers       2  \n",
       "689           Kitchen & Dining       5  \n",
       "485                  Computers       2  \n",
       "388   Beauty and Personal Care       1  \n",
       "31                     Watches       6  \n",
       "...                         ...    ...  \n",
       "330                  Computers       2  \n",
       "466                  Baby Care       0  \n",
       "121                  Baby Care       0  \n",
       "1044                 Baby Care       0  \n",
       "860                  Computers       2  \n",
       "\n",
       "[1050 rows x 3 columns]"
      ]
     },
     "metadata": {},
     "output_type": "display_data"
    }
   ],
   "source": [
    "FRAC = 1\n",
    "\n",
    "# Faire un échantillon avec FRAC\n",
    "data_cleaned = data_cleaned.sample(frac=FRAC)\n",
    "\n",
    "# Apercu du dataframe\n",
    "display(data_cleaned)"
   ]
  },
  {
   "cell_type": "markdown",
   "metadata": {},
   "source": [
    "### <span style='background:red; color:black'>DEV fin</span>\n"
   ]
  },
  {
   "cell_type": "markdown",
   "metadata": {},
   "source": [
    "Nous isolons le noms des catégories"
   ]
  },
  {
   "cell_type": "code",
   "execution_count": 19,
   "metadata": {},
   "outputs": [
    {
     "name": "stdout",
     "output_type": "stream",
     "text": [
      "['Computers ' 'Kitchen & Dining ' 'Beauty and Personal Care ' 'Watches ' 'Baby Care ' 'Home Decor & Festive Needs ' 'Home Furnishing ']\n"
     ]
    }
   ],
   "source": [
    "categories = data_cleaned['product_name'].unique()\n",
    "print(categories)"
   ]
  },
  {
   "cell_type": "markdown",
   "metadata": {},
   "source": [
    "# <span style='background:blue'>Etape 4 : Séparation des données</span>\n",
    "\n",
    "## <span style='background:green'>1/ Détermination target et features</span>\n",
    "\n",
    "Nous réalisons un apprentissage supervisé pour la classification des images.\n",
    "Pour cela, nous déterminons la target (valeur à prédire) et les features (paramètres explicatifs de la pédiction) :\n",
    "- Les **features** (X) sont les chemins des images (nom du fichier inclus) puisque ce sont les données contenues dans les images (pixels) qui vont permettre de prédire la catégorie de l'image\n",
    "\n",
    "- La **target** (Y) est la colonne \"label\" puisque c'est la catégorie des images que nous souhaitons prédire"
   ]
  },
  {
   "cell_type": "code",
   "execution_count": 20,
   "metadata": {},
   "outputs": [],
   "source": [
    "X = data_cleaned['image'].values\n",
    "y = data_cleaned['label'].values"
   ]
  },
  {
   "cell_type": "markdown",
   "metadata": {},
   "source": [
    "Nous les affichons les 5 premières valeurs pour vérifier leur contenu."
   ]
  },
  {
   "cell_type": "code",
   "execution_count": 21,
   "metadata": {},
   "outputs": [
    {
     "name": "stdout",
     "output_type": "stream",
     "text": [
      "['./data/source/Images/833a87b0af3b84fe246d2ebf271af177.jpg' './data/source/Images/55195de3873fffaa9e37b041533d7305.jpg' './data/source/Images/44b963eb856b4831dfdd21b666593c95.jpg' './data/source/Images/98ad5b99ad96695568d8f143b11ab740.jpg' './data/source/Images/29b1ca231e10d5269516b80bf9d0dffc.jpg']\n"
     ]
    }
   ],
   "source": [
    "print(X[:5])"
   ]
  },
  {
   "cell_type": "code",
   "execution_count": 22,
   "metadata": {},
   "outputs": [
    {
     "name": "stdout",
     "output_type": "stream",
     "text": [
      "[2 5 2 1 6]\n"
     ]
    }
   ],
   "source": [
    "print(y[:5])"
   ]
  },
  {
   "cell_type": "markdown",
   "metadata": {},
   "source": [
    "Avant de séparer les données en train et test, nous vérifions la correspondance entre les label et les product_name."
   ]
  },
  {
   "cell_type": "code",
   "execution_count": 23,
   "metadata": {},
   "outputs": [
    {
     "data": {
      "text/html": [
       "<div>\n",
       "<style scoped>\n",
       "    .dataframe tbody tr th:only-of-type {\n",
       "        vertical-align: middle;\n",
       "    }\n",
       "\n",
       "    .dataframe tbody tr th {\n",
       "        vertical-align: top;\n",
       "    }\n",
       "\n",
       "    .dataframe thead th {\n",
       "        text-align: right;\n",
       "    }\n",
       "</style>\n",
       "<table border=\"1\" class=\"dataframe\">\n",
       "  <thead>\n",
       "    <tr style=\"text-align: right;\">\n",
       "      <th></th>\n",
       "      <th></th>\n",
       "      <th>count</th>\n",
       "    </tr>\n",
       "    <tr>\n",
       "      <th>label</th>\n",
       "      <th>product_name</th>\n",
       "      <th></th>\n",
       "    </tr>\n",
       "  </thead>\n",
       "  <tbody>\n",
       "    <tr>\n",
       "      <th>0</th>\n",
       "      <th>Baby Care</th>\n",
       "      <td>150</td>\n",
       "    </tr>\n",
       "    <tr>\n",
       "      <th>1</th>\n",
       "      <th>Beauty and Personal Care</th>\n",
       "      <td>150</td>\n",
       "    </tr>\n",
       "    <tr>\n",
       "      <th>2</th>\n",
       "      <th>Computers</th>\n",
       "      <td>150</td>\n",
       "    </tr>\n",
       "    <tr>\n",
       "      <th>3</th>\n",
       "      <th>Home Decor &amp; Festive Needs</th>\n",
       "      <td>150</td>\n",
       "    </tr>\n",
       "    <tr>\n",
       "      <th>4</th>\n",
       "      <th>Home Furnishing</th>\n",
       "      <td>150</td>\n",
       "    </tr>\n",
       "    <tr>\n",
       "      <th>5</th>\n",
       "      <th>Kitchen &amp; Dining</th>\n",
       "      <td>150</td>\n",
       "    </tr>\n",
       "    <tr>\n",
       "      <th>6</th>\n",
       "      <th>Watches</th>\n",
       "      <td>150</td>\n",
       "    </tr>\n",
       "  </tbody>\n",
       "</table>\n",
       "</div>"
      ],
      "text/plain": [
       "                                   count\n",
       "label product_name                      \n",
       "0     Baby Care                      150\n",
       "1     Beauty and Personal Care       150\n",
       "2     Computers                      150\n",
       "3     Home Decor & Festive Needs     150\n",
       "4     Home Furnishing                150\n",
       "5     Kitchen & Dining               150\n",
       "6     Watches                        150"
      ]
     },
     "metadata": {},
     "output_type": "display_data"
    }
   ],
   "source": [
    "correspondence = (\n",
    "    data_cleaned.groupby(['label', 'product_name']).size().to_frame('count')\n",
    ")\n",
    "display(correspondence)"
   ]
  },
  {
   "cell_type": "markdown",
   "metadata": {},
   "source": [
    "Chaque label correspond bien à une catégorie de produit. Les catégories sont proportionnées de manière équitable."
   ]
  },
  {
   "cell_type": "markdown",
   "metadata": {},
   "source": [
    "## <span style='background:green'>2/ train_test_split</span>\n",
    "\n",
    "Nous divisons les données en 3 jeux de données :\n",
    "- 75% des données pour le **train**\n",
    "- 15% des données pour la **validation**\n",
    "- 15% des données pour le **test**"
   ]
  },
  {
   "cell_type": "code",
   "execution_count": 25,
   "metadata": {},
   "outputs": [
    {
     "name": "stdout",
     "output_type": "stream",
     "text": [
      "X_train shape: (735,)  / y_train shape: (735,)\n",
      "X_val shape: (157,)  / y_val shape: (157,)\n",
      "X_test shape: (158,)  / y_test shape: (158,)\n"
     ]
    }
   ],
   "source": [
    "# Séparation des données (entraînement + validation) / test\n",
    "X_temp, X_test, y_temp, y_test = train_test_split(\n",
    "    X,\n",
    "    y,\n",
    "    test_size=0.15,\n",
    "    random_state=random_seed,\n",
    "    stratify=y\n",
    "    )\n",
    "\n",
    "# Séparation des données entraînement / validation\n",
    "X_train, X_val, y_train, y_val = train_test_split(\n",
    "    X_temp,\n",
    "    y_temp,\n",
    "    test_size=0.176,\n",
    "    random_state=random_seed,\n",
    "    stratify=y_temp\n",
    "    )\n",
    "\n",
    "# Affichage des dimensions des données\n",
    "print(\"X_train shape:\", X_train.shape, \" / y_train shape:\", y_train.shape)\n",
    "print(\"X_val shape:\", X_val.shape, \" / y_val shape:\", y_val.shape)\n",
    "print(\"X_test shape:\", X_test.shape, \" / y_test shape:\", y_test.shape)"
   ]
  },
  {
   "cell_type": "code",
   "execution_count": 26,
   "metadata": {},
   "outputs": [
    {
     "name": "stdout",
     "output_type": "stream",
     "text": [
      "['./data/source/Images/948699ab8c947ce56c256f9cf7996761.jpg' './data/source/Images/0131e5d87b72877702d536299cf83b75.jpg' './data/source/Images/968a2b3be84193e3f755c2fe71033a2c.jpg' './data/source/Images/f12a06b7dbfc55638afafcf8bb03d836.jpg' './data/source/Images/a30aa3b765b613c158fd3a295ed934fa.jpg']\n"
     ]
    }
   ],
   "source": [
    "print(X_train[0:5])"
   ]
  },
  {
   "cell_type": "code",
   "execution_count": 27,
   "metadata": {},
   "outputs": [
    {
     "name": "stdout",
     "output_type": "stream",
     "text": [
      "[0 5 3 3 4]\n"
     ]
    }
   ],
   "source": [
    "print(y_train[0:5])"
   ]
  },
  {
   "cell_type": "markdown",
   "metadata": {},
   "source": [
    "<div class=\"alert alert-block alert-success\"><b>Bilan: </b>\n",
    "\n",
    "Le dataset est équitablement réparti entre 7 catégories. Trois jeux de données ont été crées : train, validation et test. "
   ]
  },
  {
   "cell_type": "markdown",
   "metadata": {},
   "source": [
    "# <span style='background:blue'>Etape 5 : Preprocessing des modèles </span>\n",
    "\n",
    "Avant chaque modélisation, les données doivent être adaptées pour être utiliser par le modèle de machine learning grâce au **preprocessing** des données.\n",
    "\n",
    "## <span style='background:green'>1/ VGG-16</span>\n",
    "\n",
    "### <span style='background:black'>a/ target</span>\n",
    "\n",
    "Le prétraitement de la target consiste à transformer les catégories avec un **OneHotEncoder** pour pouvoir les utiliser dans le modèle de machine learning."
   ]
  },
  {
   "cell_type": "code",
   "execution_count": 28,
   "metadata": {},
   "outputs": [],
   "source": [
    "# OneHotEncoder des target d'entrainement, validation et test\n",
    "y_train_pretraited = to_categorical(y_train)\n",
    "y_val_pretraited = to_categorical(y_val)\n",
    "y_test_pretraited = to_categorical(y_test)"
   ]
  },
  {
   "cell_type": "markdown",
   "metadata": {},
   "source": [
    "Nous visualisons les 3 jeux de données pour vérifier que le prétraitement de la\n",
    "target a bien été réalisé."
   ]
  },
  {
   "cell_type": "code",
   "execution_count": 29,
   "metadata": {},
   "outputs": [
    {
     "data": {
      "image/png": "[encoded data removed]",
      "text/plain": [
       "<Figure size 640x480 with 2 Axes>"
      ]
     },
     "metadata": {},
     "output_type": "display_data"
    }
   ],
   "source": [
    "affiche_heatmap(y_train_pretraited, \"y_train_pretraited\")"
   ]
  },
  {
   "cell_type": "code",
   "execution_count": 30,
   "metadata": {},
   "outputs": [
    {
     "data": {
      "image/png": "[encoded data removed]",
      "text/plain": [
       "<Figure size 640x480 with 2 Axes>"
      ]
     },
     "metadata": {},
     "output_type": "display_data"
    }
   ],
   "source": [
    "affiche_heatmap(y_val_pretraited, \"y_val_pretraited\")"
   ]
  },
  {
   "cell_type": "code",
   "execution_count": 31,
   "metadata": {},
   "outputs": [
    {
     "data": {
      "image/png": "[encoded data removed]",
      "text/plain": [
       "<Figure size 640x480 with 2 Axes>"
      ]
     },
     "metadata": {},
     "output_type": "display_data"
    }
   ],
   "source": [
    "affiche_heatmap(y_test_pretraited, \"y_test_pretraited\")"
   ]
  },
  {
   "cell_type": "markdown",
   "metadata": {},
   "source": [
    "### <span style='background:black'>b/ features</span>\n",
    "\n",
    "Le prétraitement des features pour le **VGG16** se déroule en plusieurs étapes :\n",
    "- Redimensionnement de l'images en 224 x 224 pixels\n",
    "- Convertion de l'image en tableau NumPy\n",
    "- Certification des dimensions (hauteur, largeur, couleur)\n",
    "- Normaliser les pixels de l'image pour VGG16 :\n",
    "  - Mettre à l'echelle entre -1 et 1 (soustraire valeur moyenne des\n",
    "    des pixels sur le canaux RGB du jeu de données ImageNet)\n",
    "  - inverser les canaux RGB en BGR"
   ]
  },
  {
   "cell_type": "code",
   "execution_count": 134,
   "metadata": {},
   "outputs": [],
   "source": [
    "# Prétraitement jeu entrainement, validation et test\n",
    "X_train_pretraited = pretraitement_image_vgg16(X_train)\n",
    "X_val_pretraited = pretraitement_image_vgg16(X_val)\n",
    "X_test_pretraited = pretraitement_image_vgg16(X_test)"
   ]
  },
  {
   "cell_type": "markdown",
   "metadata": {},
   "source": [
    "Nous vérifions les dimensions des images pour vérifier que le prétraitement des features a bien été réalisé."
   ]
  },
  {
   "cell_type": "code",
   "execution_count": 33,
   "metadata": {},
   "outputs": [
    {
     "name": "stdout",
     "output_type": "stream",
     "text": [
      "X_train_pretraited :  (735, 224, 224, 3)\n",
      "X_val_pretraited :  (157, 224, 224, 3)\n",
      "X_test_pretraited :  (158, 224, 224, 3)\n"
     ]
    }
   ],
   "source": [
    "print(\"X_train_pretraited : \", X_train_pretraited.shape)\n",
    "print(\"X_val_pretraited : \", X_val_pretraited.shape)\n",
    "print(\"X_test_pretraited : \", X_test_pretraited.shape)"
   ]
  },
  {
   "cell_type": "markdown",
   "metadata": {},
   "source": [
    "## <span style='background:green'>2/ YOLO</span>\n",
    "\n",
    "Le preprocessing pour ce modèle est effectué directement par le processus du modèle. Il consiste à  réaliser : \n",
    "- Re-demisionnement de l'image\n",
    "- Rognage en carré\n",
    "- Normalisation des valeurs de pixel\n",
    "- Conversion de l'image en un tenseur\n",
    "\n",
    "Il nous suffit de classer correctement les images selon une arborescence particulière pour que le modèle réalise correctement les étapes de preprocessing. \n",
    "\n",
    "L'arborescence doit être de ce type :\n",
    "\n",
    "- test\n",
    "  - catégorie 1\n",
    "    - fichier image 1\n",
    "    - fichier image 2\n",
    "    - ...\n",
    "  - catégorie 2\n",
    "  ...\n",
    "\n",
    "- train\n",
    "  - catégorie 1\n",
    "    - fichier image 1\n",
    "    - fichier image 2\n",
    "    - ...\n",
    "  - catégorie 2\n",
    "  ...\n",
    "\n",
    "- val\n",
    "  - catégorie 1\n",
    "    - fichier image 1\n",
    "    - fichier image 2\n",
    "    - ...\n",
    "  - catégorie 2\n",
    "  ...\n",
    "\n",
    "Nous effectuons cette arborescence avec notre dataset."
   ]
  },
  {
   "cell_type": "code",
   "execution_count": 34,
   "metadata": {},
   "outputs": [
    {
     "name": "stdout",
     "output_type": "stream",
     "text": [
      "Current directory : c:\\Users\\pierr\\VSC_Projects\\Projet8_OCR_DataScientist\n",
      "Dossiers 'train', 'val' et 'test' créés.\n",
      "\n",
      "Images copiées dans les dossiers 'train', 'val' et 'test'.\n"
     ]
    }
   ],
   "source": [
    "# Afficher le current directory\n",
    "print(\"Current directory :\", os.getcwd())\n",
    "\n",
    "# Créer les dossiers 'train' et 'val' s'ils n'existent pas déjà\n",
    "os.makedirs('data/cleaned/train', exist_ok=True)\n",
    "os.makedirs('data/cleaned/val', exist_ok=True)\n",
    "os.makedirs('data/cleaned/test', exist_ok=True)\n",
    "print(\"Dossiers 'train', 'val' et 'test' créés.\")\n",
    "\n",
    "# Copier les images de train et de validation\n",
    "copy_images(X_train, y_train, 'train', correspondence)\n",
    "copy_images(X_val, y_val, 'val', correspondence)\n",
    "copy_images(X_test, y_test, 'test', correspondence)\n",
    "\n",
    "print(\"\\nImages copiées dans les dossiers 'train', 'val' et 'test'.\")"
   ]
  },
  {
   "cell_type": "markdown",
   "metadata": {},
   "source": [
    "<div class=\"alert alert-block alert-success\"><b>Bilan: </b>\n",
    "\n",
    "Le **preprocessing** du modèle VGG-16 est réalisé pour les données avant de faire la modélisation. Le modèle Yolo intègre lui directement le preprocessing dans son travail de modélisation, à condition de respecter une arborescence particulière des donnes. "
   ]
  },
  {
   "cell_type": "markdown",
   "metadata": {},
   "source": [
    "# <span style='background:blue'>Etape 6 : Entrainement des modèles </span>\n",
    "\n",
    "Nous entrainons les modèles de machine learning sur les données d'entrainement et de validation.\n",
    "\n",
    "## <span style='background:green'>1/ VGG-16</span>\n",
    "\n",
    "### <span style='background:black'>a/ Architecture</span>\n",
    "\n",
    "Le modèle VGG16 est composé de 16 couches de convolution et de 3 couches fully connected. Il classe les images (224 x 224 pixels) en 1000 catégories différentes.\n",
    "\n",
    "Nous créons un modèle de classification d'images CNN en réalisant un **transfer learning** à partir du modèle VGG16. Ce dernier est importé **sans** les 3 couches fully connected. Les **poids** du modèle sont initialisés\n",
    "avec les poids du modèle entrainé sur ImageNet.\n",
    "\n",
    "Le modèle de transfer learning VGG16 est utilisé comme extracteur de caractéristiques, et 4 nouvelles couches sont ajoutées à sa sortie :\n",
    "- 1 couche de **GlobalAveragePooling2D** pour convertir les features en un vecteur 1D\n",
    "- 1 couche **Dense** de 256 neurones et une fonction d'activation **relu**\n",
    "- 1 couche **Dropout** pour désactiver 50% des neurones\n",
    "- 1 couche **Dense**\n",
    "de 7 neurones et une fonction d'activation **softmax** pour la classification\n"
   ]
  },
  {
   "cell_type": "code",
   "execution_count": 35,
   "metadata": {},
   "outputs": [
    {
     "name": "stdout",
     "output_type": "stream",
     "text": [
      "Nous réalisons les calculs.\n"
     ]
    }
   ],
   "source": [
    "# Nous réalisons les calculs s'ils n'ont pas été déjà réalisés\n",
    "if is_modele_vgg16_calculed:\n",
    "    print(\"Les calculs ont deja tournés pour le modèle VGG-16.\")\n",
    "else:\n",
    "    print(\"Nous réalisons les calculs.\")\n",
    "\n",
    "    # Récupération du modèle pré-entraîné VGG16 sans les couches supérieures\n",
    "    base_model_vgg16 = VGG16(\n",
    "        include_top=False,\n",
    "        weights=\"imagenet\",\n",
    "        input_shape=(224, 224, 3)\n",
    "    )\n",
    "\n",
    "    # Rendre les couches du modèle VGG16 non entraînables\n",
    "    for layer in base_model_vgg16.layers:\n",
    "        layer.trainable = False\n",
    "\n",
    "    # Récupérer la sortie du modèle VGG16\n",
    "    x = base_model_vgg16.output\n",
    "\n",
    "    # Completer model : vecteur 1D / ReLU / desactive moitié / softmax 7 cate\n",
    "    x = GlobalAveragePooling2D()(x)\n",
    "    x = Dense(256, activation='relu')(x)\n",
    "    x = Dropout(0.5)(x)\n",
    "    predictions = Dense(7, activation='softmax')(x)\n",
    "\n",
    "    # Créer le nouveau modèle\n",
    "    model_vgg16 = Model(inputs=base_model_vgg16.input, outputs=predictions)"
   ]
  },
  {
   "cell_type": "markdown",
   "metadata": {},
   "source": [
    "\n",
    "### <span style='background:black'>b/ Compilation et métrique d'évaluation</span>\n",
    "\n",
    "Le modèle est compilé avec les mêmes paramètres que précedemment, à savoir :\n",
    "- la fonction de perte '**categorical_crossentropy**'\n",
    "\n",
    "- l'optimiseur '**rmsprop**'\n",
    "\n",
    "- la métrique d'évaluation '**accuracy**'\n",
    "\n",
    "Le nombre d'epoch défini = 10"
   ]
  },
  {
   "cell_type": "code",
   "execution_count": 36,
   "metadata": {},
   "outputs": [
    {
     "name": "stdout",
     "output_type": "stream",
     "text": [
      "Nous réalisons les calculs.\n"
     ]
    },
    {
     "data": {
      "text/html": [
       "<pre style=\"white-space:pre;overflow-x:auto;line-height:normal;font-family:Menlo,'DejaVu Sans Mono',consolas,'Courier New',monospace\"><span style=\"font-weight: bold\">Model: \"functional_1\"</span>\n",
       "</pre>\n"
      ],
      "text/plain": [
       "\u001b[1mModel: \"functional_1\"\u001b[0m\n"
      ]
     },
     "metadata": {},
     "output_type": "display_data"
    },
    {
     "data": {
      "text/html": [
       "<pre style=\"white-space:pre;overflow-x:auto;line-height:normal;font-family:Menlo,'DejaVu Sans Mono',consolas,'Courier New',monospace\">┏━━━━━━━━━━━━━━━━━━━━━━━━━━━━━━━━━┳━━━━━━━━━━━━━━━━━━━━━━━━┳━━━━━━━━━━━━━━━┓\n",
       "┃<span style=\"font-weight: bold\"> Layer (type)                    </span>┃<span style=\"font-weight: bold\"> Output Shape           </span>┃<span style=\"font-weight: bold\">       Param # </span>┃\n",
       "┡━━━━━━━━━━━━━━━━━━━━━━━━━━━━━━━━━╇━━━━━━━━━━━━━━━━━━━━━━━━╇━━━━━━━━━━━━━━━┩\n",
       "│ input_layer (<span style=\"color: #0087ff; text-decoration-color: #0087ff\">InputLayer</span>)        │ (<span style=\"color: #00d7ff; text-decoration-color: #00d7ff\">None</span>, <span style=\"color: #00af00; text-decoration-color: #00af00\">224</span>, <span style=\"color: #00af00; text-decoration-color: #00af00\">224</span>, <span style=\"color: #00af00; text-decoration-color: #00af00\">3</span>)    │             <span style=\"color: #00af00; text-decoration-color: #00af00\">0</span> │\n",
       "├─────────────────────────────────┼────────────────────────┼───────────────┤\n",
       "│ block1_conv1 (<span style=\"color: #0087ff; text-decoration-color: #0087ff\">Conv2D</span>)           │ (<span style=\"color: #00d7ff; text-decoration-color: #00d7ff\">None</span>, <span style=\"color: #00af00; text-decoration-color: #00af00\">224</span>, <span style=\"color: #00af00; text-decoration-color: #00af00\">224</span>, <span style=\"color: #00af00; text-decoration-color: #00af00\">64</span>)   │         <span style=\"color: #00af00; text-decoration-color: #00af00\">1,792</span> │\n",
       "├─────────────────────────────────┼────────────────────────┼───────────────┤\n",
       "│ block1_conv2 (<span style=\"color: #0087ff; text-decoration-color: #0087ff\">Conv2D</span>)           │ (<span style=\"color: #00d7ff; text-decoration-color: #00d7ff\">None</span>, <span style=\"color: #00af00; text-decoration-color: #00af00\">224</span>, <span style=\"color: #00af00; text-decoration-color: #00af00\">224</span>, <span style=\"color: #00af00; text-decoration-color: #00af00\">64</span>)   │        <span style=\"color: #00af00; text-decoration-color: #00af00\">36,928</span> │\n",
       "├─────────────────────────────────┼────────────────────────┼───────────────┤\n",
       "│ block1_pool (<span style=\"color: #0087ff; text-decoration-color: #0087ff\">MaxPooling2D</span>)      │ (<span style=\"color: #00d7ff; text-decoration-color: #00d7ff\">None</span>, <span style=\"color: #00af00; text-decoration-color: #00af00\">112</span>, <span style=\"color: #00af00; text-decoration-color: #00af00\">112</span>, <span style=\"color: #00af00; text-decoration-color: #00af00\">64</span>)   │             <span style=\"color: #00af00; text-decoration-color: #00af00\">0</span> │\n",
       "├─────────────────────────────────┼────────────────────────┼───────────────┤\n",
       "│ block2_conv1 (<span style=\"color: #0087ff; text-decoration-color: #0087ff\">Conv2D</span>)           │ (<span style=\"color: #00d7ff; text-decoration-color: #00d7ff\">None</span>, <span style=\"color: #00af00; text-decoration-color: #00af00\">112</span>, <span style=\"color: #00af00; text-decoration-color: #00af00\">112</span>, <span style=\"color: #00af00; text-decoration-color: #00af00\">128</span>)  │        <span style=\"color: #00af00; text-decoration-color: #00af00\">73,856</span> │\n",
       "├─────────────────────────────────┼────────────────────────┼───────────────┤\n",
       "│ block2_conv2 (<span style=\"color: #0087ff; text-decoration-color: #0087ff\">Conv2D</span>)           │ (<span style=\"color: #00d7ff; text-decoration-color: #00d7ff\">None</span>, <span style=\"color: #00af00; text-decoration-color: #00af00\">112</span>, <span style=\"color: #00af00; text-decoration-color: #00af00\">112</span>, <span style=\"color: #00af00; text-decoration-color: #00af00\">128</span>)  │       <span style=\"color: #00af00; text-decoration-color: #00af00\">147,584</span> │\n",
       "├─────────────────────────────────┼────────────────────────┼───────────────┤\n",
       "│ block2_pool (<span style=\"color: #0087ff; text-decoration-color: #0087ff\">MaxPooling2D</span>)      │ (<span style=\"color: #00d7ff; text-decoration-color: #00d7ff\">None</span>, <span style=\"color: #00af00; text-decoration-color: #00af00\">56</span>, <span style=\"color: #00af00; text-decoration-color: #00af00\">56</span>, <span style=\"color: #00af00; text-decoration-color: #00af00\">128</span>)    │             <span style=\"color: #00af00; text-decoration-color: #00af00\">0</span> │\n",
       "├─────────────────────────────────┼────────────────────────┼───────────────┤\n",
       "│ block3_conv1 (<span style=\"color: #0087ff; text-decoration-color: #0087ff\">Conv2D</span>)           │ (<span style=\"color: #00d7ff; text-decoration-color: #00d7ff\">None</span>, <span style=\"color: #00af00; text-decoration-color: #00af00\">56</span>, <span style=\"color: #00af00; text-decoration-color: #00af00\">56</span>, <span style=\"color: #00af00; text-decoration-color: #00af00\">256</span>)    │       <span style=\"color: #00af00; text-decoration-color: #00af00\">295,168</span> │\n",
       "├─────────────────────────────────┼────────────────────────┼───────────────┤\n",
       "│ block3_conv2 (<span style=\"color: #0087ff; text-decoration-color: #0087ff\">Conv2D</span>)           │ (<span style=\"color: #00d7ff; text-decoration-color: #00d7ff\">None</span>, <span style=\"color: #00af00; text-decoration-color: #00af00\">56</span>, <span style=\"color: #00af00; text-decoration-color: #00af00\">56</span>, <span style=\"color: #00af00; text-decoration-color: #00af00\">256</span>)    │       <span style=\"color: #00af00; text-decoration-color: #00af00\">590,080</span> │\n",
       "├─────────────────────────────────┼────────────────────────┼───────────────┤\n",
       "│ block3_conv3 (<span style=\"color: #0087ff; text-decoration-color: #0087ff\">Conv2D</span>)           │ (<span style=\"color: #00d7ff; text-decoration-color: #00d7ff\">None</span>, <span style=\"color: #00af00; text-decoration-color: #00af00\">56</span>, <span style=\"color: #00af00; text-decoration-color: #00af00\">56</span>, <span style=\"color: #00af00; text-decoration-color: #00af00\">256</span>)    │       <span style=\"color: #00af00; text-decoration-color: #00af00\">590,080</span> │\n",
       "├─────────────────────────────────┼────────────────────────┼───────────────┤\n",
       "│ block3_pool (<span style=\"color: #0087ff; text-decoration-color: #0087ff\">MaxPooling2D</span>)      │ (<span style=\"color: #00d7ff; text-decoration-color: #00d7ff\">None</span>, <span style=\"color: #00af00; text-decoration-color: #00af00\">28</span>, <span style=\"color: #00af00; text-decoration-color: #00af00\">28</span>, <span style=\"color: #00af00; text-decoration-color: #00af00\">256</span>)    │             <span style=\"color: #00af00; text-decoration-color: #00af00\">0</span> │\n",
       "├─────────────────────────────────┼────────────────────────┼───────────────┤\n",
       "│ block4_conv1 (<span style=\"color: #0087ff; text-decoration-color: #0087ff\">Conv2D</span>)           │ (<span style=\"color: #00d7ff; text-decoration-color: #00d7ff\">None</span>, <span style=\"color: #00af00; text-decoration-color: #00af00\">28</span>, <span style=\"color: #00af00; text-decoration-color: #00af00\">28</span>, <span style=\"color: #00af00; text-decoration-color: #00af00\">512</span>)    │     <span style=\"color: #00af00; text-decoration-color: #00af00\">1,180,160</span> │\n",
       "├─────────────────────────────────┼────────────────────────┼───────────────┤\n",
       "│ block4_conv2 (<span style=\"color: #0087ff; text-decoration-color: #0087ff\">Conv2D</span>)           │ (<span style=\"color: #00d7ff; text-decoration-color: #00d7ff\">None</span>, <span style=\"color: #00af00; text-decoration-color: #00af00\">28</span>, <span style=\"color: #00af00; text-decoration-color: #00af00\">28</span>, <span style=\"color: #00af00; text-decoration-color: #00af00\">512</span>)    │     <span style=\"color: #00af00; text-decoration-color: #00af00\">2,359,808</span> │\n",
       "├─────────────────────────────────┼────────────────────────┼───────────────┤\n",
       "│ block4_conv3 (<span style=\"color: #0087ff; text-decoration-color: #0087ff\">Conv2D</span>)           │ (<span style=\"color: #00d7ff; text-decoration-color: #00d7ff\">None</span>, <span style=\"color: #00af00; text-decoration-color: #00af00\">28</span>, <span style=\"color: #00af00; text-decoration-color: #00af00\">28</span>, <span style=\"color: #00af00; text-decoration-color: #00af00\">512</span>)    │     <span style=\"color: #00af00; text-decoration-color: #00af00\">2,359,808</span> │\n",
       "├─────────────────────────────────┼────────────────────────┼───────────────┤\n",
       "│ block4_pool (<span style=\"color: #0087ff; text-decoration-color: #0087ff\">MaxPooling2D</span>)      │ (<span style=\"color: #00d7ff; text-decoration-color: #00d7ff\">None</span>, <span style=\"color: #00af00; text-decoration-color: #00af00\">14</span>, <span style=\"color: #00af00; text-decoration-color: #00af00\">14</span>, <span style=\"color: #00af00; text-decoration-color: #00af00\">512</span>)    │             <span style=\"color: #00af00; text-decoration-color: #00af00\">0</span> │\n",
       "├─────────────────────────────────┼────────────────────────┼───────────────┤\n",
       "│ block5_conv1 (<span style=\"color: #0087ff; text-decoration-color: #0087ff\">Conv2D</span>)           │ (<span style=\"color: #00d7ff; text-decoration-color: #00d7ff\">None</span>, <span style=\"color: #00af00; text-decoration-color: #00af00\">14</span>, <span style=\"color: #00af00; text-decoration-color: #00af00\">14</span>, <span style=\"color: #00af00; text-decoration-color: #00af00\">512</span>)    │     <span style=\"color: #00af00; text-decoration-color: #00af00\">2,359,808</span> │\n",
       "├─────────────────────────────────┼────────────────────────┼───────────────┤\n",
       "│ block5_conv2 (<span style=\"color: #0087ff; text-decoration-color: #0087ff\">Conv2D</span>)           │ (<span style=\"color: #00d7ff; text-decoration-color: #00d7ff\">None</span>, <span style=\"color: #00af00; text-decoration-color: #00af00\">14</span>, <span style=\"color: #00af00; text-decoration-color: #00af00\">14</span>, <span style=\"color: #00af00; text-decoration-color: #00af00\">512</span>)    │     <span style=\"color: #00af00; text-decoration-color: #00af00\">2,359,808</span> │\n",
       "├─────────────────────────────────┼────────────────────────┼───────────────┤\n",
       "│ block5_conv3 (<span style=\"color: #0087ff; text-decoration-color: #0087ff\">Conv2D</span>)           │ (<span style=\"color: #00d7ff; text-decoration-color: #00d7ff\">None</span>, <span style=\"color: #00af00; text-decoration-color: #00af00\">14</span>, <span style=\"color: #00af00; text-decoration-color: #00af00\">14</span>, <span style=\"color: #00af00; text-decoration-color: #00af00\">512</span>)    │     <span style=\"color: #00af00; text-decoration-color: #00af00\">2,359,808</span> │\n",
       "├─────────────────────────────────┼────────────────────────┼───────────────┤\n",
       "│ block5_pool (<span style=\"color: #0087ff; text-decoration-color: #0087ff\">MaxPooling2D</span>)      │ (<span style=\"color: #00d7ff; text-decoration-color: #00d7ff\">None</span>, <span style=\"color: #00af00; text-decoration-color: #00af00\">7</span>, <span style=\"color: #00af00; text-decoration-color: #00af00\">7</span>, <span style=\"color: #00af00; text-decoration-color: #00af00\">512</span>)      │             <span style=\"color: #00af00; text-decoration-color: #00af00\">0</span> │\n",
       "├─────────────────────────────────┼────────────────────────┼───────────────┤\n",
       "│ global_average_pooling2d        │ (<span style=\"color: #00d7ff; text-decoration-color: #00d7ff\">None</span>, <span style=\"color: #00af00; text-decoration-color: #00af00\">512</span>)            │             <span style=\"color: #00af00; text-decoration-color: #00af00\">0</span> │\n",
       "│ (<span style=\"color: #0087ff; text-decoration-color: #0087ff\">GlobalAveragePooling2D</span>)        │                        │               │\n",
       "├─────────────────────────────────┼────────────────────────┼───────────────┤\n",
       "│ dense (<span style=\"color: #0087ff; text-decoration-color: #0087ff\">Dense</span>)                   │ (<span style=\"color: #00d7ff; text-decoration-color: #00d7ff\">None</span>, <span style=\"color: #00af00; text-decoration-color: #00af00\">256</span>)            │       <span style=\"color: #00af00; text-decoration-color: #00af00\">131,328</span> │\n",
       "├─────────────────────────────────┼────────────────────────┼───────────────┤\n",
       "│ dropout (<span style=\"color: #0087ff; text-decoration-color: #0087ff\">Dropout</span>)               │ (<span style=\"color: #00d7ff; text-decoration-color: #00d7ff\">None</span>, <span style=\"color: #00af00; text-decoration-color: #00af00\">256</span>)            │             <span style=\"color: #00af00; text-decoration-color: #00af00\">0</span> │\n",
       "├─────────────────────────────────┼────────────────────────┼───────────────┤\n",
       "│ dense_1 (<span style=\"color: #0087ff; text-decoration-color: #0087ff\">Dense</span>)                 │ (<span style=\"color: #00d7ff; text-decoration-color: #00d7ff\">None</span>, <span style=\"color: #00af00; text-decoration-color: #00af00\">7</span>)              │         <span style=\"color: #00af00; text-decoration-color: #00af00\">1,799</span> │\n",
       "└─────────────────────────────────┴────────────────────────┴───────────────┘\n",
       "</pre>\n"
      ],
      "text/plain": [
       "┏━━━━━━━━━━━━━━━━━━━━━━━━━━━━━━━━━┳━━━━━━━━━━━━━━━━━━━━━━━━┳━━━━━━━━━━━━━━━┓\n",
       "┃\u001b[1m \u001b[0m\u001b[1mLayer (type)                   \u001b[0m\u001b[1m \u001b[0m┃\u001b[1m \u001b[0m\u001b[1mOutput Shape          \u001b[0m\u001b[1m \u001b[0m┃\u001b[1m \u001b[0m\u001b[1m      Param #\u001b[0m\u001b[1m \u001b[0m┃\n",
       "┡━━━━━━━━━━━━━━━━━━━━━━━━━━━━━━━━━╇━━━━━━━━━━━━━━━━━━━━━━━━╇━━━━━━━━━━━━━━━┩\n",
       "│ input_layer (\u001b[38;5;33mInputLayer\u001b[0m)        │ (\u001b[38;5;45mNone\u001b[0m, \u001b[38;5;34m224\u001b[0m, \u001b[38;5;34m224\u001b[0m, \u001b[38;5;34m3\u001b[0m)    │             \u001b[38;5;34m0\u001b[0m │\n",
       "├─────────────────────────────────┼────────────────────────┼───────────────┤\n",
       "│ block1_conv1 (\u001b[38;5;33mConv2D\u001b[0m)           │ (\u001b[38;5;45mNone\u001b[0m, \u001b[38;5;34m224\u001b[0m, \u001b[38;5;34m224\u001b[0m, \u001b[38;5;34m64\u001b[0m)   │         \u001b[38;5;34m1,792\u001b[0m │\n",
       "├─────────────────────────────────┼────────────────────────┼───────────────┤\n",
       "│ block1_conv2 (\u001b[38;5;33mConv2D\u001b[0m)           │ (\u001b[38;5;45mNone\u001b[0m, \u001b[38;5;34m224\u001b[0m, \u001b[38;5;34m224\u001b[0m, \u001b[38;5;34m64\u001b[0m)   │        \u001b[38;5;34m36,928\u001b[0m │\n",
       "├─────────────────────────────────┼────────────────────────┼───────────────┤\n",
       "│ block1_pool (\u001b[38;5;33mMaxPooling2D\u001b[0m)      │ (\u001b[38;5;45mNone\u001b[0m, \u001b[38;5;34m112\u001b[0m, \u001b[38;5;34m112\u001b[0m, \u001b[38;5;34m64\u001b[0m)   │             \u001b[38;5;34m0\u001b[0m │\n",
       "├─────────────────────────────────┼────────────────────────┼───────────────┤\n",
       "│ block2_conv1 (\u001b[38;5;33mConv2D\u001b[0m)           │ (\u001b[38;5;45mNone\u001b[0m, \u001b[38;5;34m112\u001b[0m, \u001b[38;5;34m112\u001b[0m, \u001b[38;5;34m128\u001b[0m)  │        \u001b[38;5;34m73,856\u001b[0m │\n",
       "├─────────────────────────────────┼────────────────────────┼───────────────┤\n",
       "│ block2_conv2 (\u001b[38;5;33mConv2D\u001b[0m)           │ (\u001b[38;5;45mNone\u001b[0m, \u001b[38;5;34m112\u001b[0m, \u001b[38;5;34m112\u001b[0m, \u001b[38;5;34m128\u001b[0m)  │       \u001b[38;5;34m147,584\u001b[0m │\n",
       "├─────────────────────────────────┼────────────────────────┼───────────────┤\n",
       "│ block2_pool (\u001b[38;5;33mMaxPooling2D\u001b[0m)      │ (\u001b[38;5;45mNone\u001b[0m, \u001b[38;5;34m56\u001b[0m, \u001b[38;5;34m56\u001b[0m, \u001b[38;5;34m128\u001b[0m)    │             \u001b[38;5;34m0\u001b[0m │\n",
       "├─────────────────────────────────┼────────────────────────┼───────────────┤\n",
       "│ block3_conv1 (\u001b[38;5;33mConv2D\u001b[0m)           │ (\u001b[38;5;45mNone\u001b[0m, \u001b[38;5;34m56\u001b[0m, \u001b[38;5;34m56\u001b[0m, \u001b[38;5;34m256\u001b[0m)    │       \u001b[38;5;34m295,168\u001b[0m │\n",
       "├─────────────────────────────────┼────────────────────────┼───────────────┤\n",
       "│ block3_conv2 (\u001b[38;5;33mConv2D\u001b[0m)           │ (\u001b[38;5;45mNone\u001b[0m, \u001b[38;5;34m56\u001b[0m, \u001b[38;5;34m56\u001b[0m, \u001b[38;5;34m256\u001b[0m)    │       \u001b[38;5;34m590,080\u001b[0m │\n",
       "├─────────────────────────────────┼────────────────────────┼───────────────┤\n",
       "│ block3_conv3 (\u001b[38;5;33mConv2D\u001b[0m)           │ (\u001b[38;5;45mNone\u001b[0m, \u001b[38;5;34m56\u001b[0m, \u001b[38;5;34m56\u001b[0m, \u001b[38;5;34m256\u001b[0m)    │       \u001b[38;5;34m590,080\u001b[0m │\n",
       "├─────────────────────────────────┼────────────────────────┼───────────────┤\n",
       "│ block3_pool (\u001b[38;5;33mMaxPooling2D\u001b[0m)      │ (\u001b[38;5;45mNone\u001b[0m, \u001b[38;5;34m28\u001b[0m, \u001b[38;5;34m28\u001b[0m, \u001b[38;5;34m256\u001b[0m)    │             \u001b[38;5;34m0\u001b[0m │\n",
       "├─────────────────────────────────┼────────────────────────┼───────────────┤\n",
       "│ block4_conv1 (\u001b[38;5;33mConv2D\u001b[0m)           │ (\u001b[38;5;45mNone\u001b[0m, \u001b[38;5;34m28\u001b[0m, \u001b[38;5;34m28\u001b[0m, \u001b[38;5;34m512\u001b[0m)    │     \u001b[38;5;34m1,180,160\u001b[0m │\n",
       "├─────────────────────────────────┼────────────────────────┼───────────────┤\n",
       "│ block4_conv2 (\u001b[38;5;33mConv2D\u001b[0m)           │ (\u001b[38;5;45mNone\u001b[0m, \u001b[38;5;34m28\u001b[0m, \u001b[38;5;34m28\u001b[0m, \u001b[38;5;34m512\u001b[0m)    │     \u001b[38;5;34m2,359,808\u001b[0m │\n",
       "├─────────────────────────────────┼────────────────────────┼───────────────┤\n",
       "│ block4_conv3 (\u001b[38;5;33mConv2D\u001b[0m)           │ (\u001b[38;5;45mNone\u001b[0m, \u001b[38;5;34m28\u001b[0m, \u001b[38;5;34m28\u001b[0m, \u001b[38;5;34m512\u001b[0m)    │     \u001b[38;5;34m2,359,808\u001b[0m │\n",
       "├─────────────────────────────────┼────────────────────────┼───────────────┤\n",
       "│ block4_pool (\u001b[38;5;33mMaxPooling2D\u001b[0m)      │ (\u001b[38;5;45mNone\u001b[0m, \u001b[38;5;34m14\u001b[0m, \u001b[38;5;34m14\u001b[0m, \u001b[38;5;34m512\u001b[0m)    │             \u001b[38;5;34m0\u001b[0m │\n",
       "├─────────────────────────────────┼────────────────────────┼───────────────┤\n",
       "│ block5_conv1 (\u001b[38;5;33mConv2D\u001b[0m)           │ (\u001b[38;5;45mNone\u001b[0m, \u001b[38;5;34m14\u001b[0m, \u001b[38;5;34m14\u001b[0m, \u001b[38;5;34m512\u001b[0m)    │     \u001b[38;5;34m2,359,808\u001b[0m │\n",
       "├─────────────────────────────────┼────────────────────────┼───────────────┤\n",
       "│ block5_conv2 (\u001b[38;5;33mConv2D\u001b[0m)           │ (\u001b[38;5;45mNone\u001b[0m, \u001b[38;5;34m14\u001b[0m, \u001b[38;5;34m14\u001b[0m, \u001b[38;5;34m512\u001b[0m)    │     \u001b[38;5;34m2,359,808\u001b[0m │\n",
       "├─────────────────────────────────┼────────────────────────┼───────────────┤\n",
       "│ block5_conv3 (\u001b[38;5;33mConv2D\u001b[0m)           │ (\u001b[38;5;45mNone\u001b[0m, \u001b[38;5;34m14\u001b[0m, \u001b[38;5;34m14\u001b[0m, \u001b[38;5;34m512\u001b[0m)    │     \u001b[38;5;34m2,359,808\u001b[0m │\n",
       "├─────────────────────────────────┼────────────────────────┼───────────────┤\n",
       "│ block5_pool (\u001b[38;5;33mMaxPooling2D\u001b[0m)      │ (\u001b[38;5;45mNone\u001b[0m, \u001b[38;5;34m7\u001b[0m, \u001b[38;5;34m7\u001b[0m, \u001b[38;5;34m512\u001b[0m)      │             \u001b[38;5;34m0\u001b[0m │\n",
       "├─────────────────────────────────┼────────────────────────┼───────────────┤\n",
       "│ global_average_pooling2d        │ (\u001b[38;5;45mNone\u001b[0m, \u001b[38;5;34m512\u001b[0m)            │             \u001b[38;5;34m0\u001b[0m │\n",
       "│ (\u001b[38;5;33mGlobalAveragePooling2D\u001b[0m)        │                        │               │\n",
       "├─────────────────────────────────┼────────────────────────┼───────────────┤\n",
       "│ dense (\u001b[38;5;33mDense\u001b[0m)                   │ (\u001b[38;5;45mNone\u001b[0m, \u001b[38;5;34m256\u001b[0m)            │       \u001b[38;5;34m131,328\u001b[0m │\n",
       "├─────────────────────────────────┼────────────────────────┼───────────────┤\n",
       "│ dropout (\u001b[38;5;33mDropout\u001b[0m)               │ (\u001b[38;5;45mNone\u001b[0m, \u001b[38;5;34m256\u001b[0m)            │             \u001b[38;5;34m0\u001b[0m │\n",
       "├─────────────────────────────────┼────────────────────────┼───────────────┤\n",
       "│ dense_1 (\u001b[38;5;33mDense\u001b[0m)                 │ (\u001b[38;5;45mNone\u001b[0m, \u001b[38;5;34m7\u001b[0m)              │         \u001b[38;5;34m1,799\u001b[0m │\n",
       "└─────────────────────────────────┴────────────────────────┴───────────────┘\n"
      ]
     },
     "metadata": {},
     "output_type": "display_data"
    },
    {
     "data": {
      "text/html": [
       "<pre style=\"white-space:pre;overflow-x:auto;line-height:normal;font-family:Menlo,'DejaVu Sans Mono',consolas,'Courier New',monospace\"><span style=\"font-weight: bold\"> Total params: </span><span style=\"color: #00af00; text-decoration-color: #00af00\">14,847,815</span> (56.64 MB)\n",
       "</pre>\n"
      ],
      "text/plain": [
       "\u001b[1m Total params: \u001b[0m\u001b[38;5;34m14,847,815\u001b[0m (56.64 MB)\n"
      ]
     },
     "metadata": {},
     "output_type": "display_data"
    },
    {
     "data": {
      "text/html": [
       "<pre style=\"white-space:pre;overflow-x:auto;line-height:normal;font-family:Menlo,'DejaVu Sans Mono',consolas,'Courier New',monospace\"><span style=\"font-weight: bold\"> Trainable params: </span><span style=\"color: #00af00; text-decoration-color: #00af00\">133,127</span> (520.03 KB)\n",
       "</pre>\n"
      ],
      "text/plain": [
       "\u001b[1m Trainable params: \u001b[0m\u001b[38;5;34m133,127\u001b[0m (520.03 KB)\n"
      ]
     },
     "metadata": {},
     "output_type": "display_data"
    },
    {
     "data": {
      "text/html": [
       "<pre style=\"white-space:pre;overflow-x:auto;line-height:normal;font-family:Menlo,'DejaVu Sans Mono',consolas,'Courier New',monospace\"><span style=\"font-weight: bold\"> Non-trainable params: </span><span style=\"color: #00af00; text-decoration-color: #00af00\">14,714,688</span> (56.13 MB)\n",
       "</pre>\n"
      ],
      "text/plain": [
       "\u001b[1m Non-trainable params: \u001b[0m\u001b[38;5;34m14,714,688\u001b[0m (56.13 MB)\n"
      ]
     },
     "metadata": {},
     "output_type": "display_data"
    },
    {
     "name": "stdout",
     "output_type": "stream",
     "text": [
      "None\n"
     ]
    }
   ],
   "source": [
    "# Paramètres du modèle\n",
    "fonction_perte = 'categorical_crossentropy'\n",
    "optimiseur = 'rmsprop'\n",
    "metric_eval = 'accuracy'\n",
    "nb_epoch = 10\n",
    "\n",
    "# Nous réalisons les calculs s'ils n'ont pas été déjà réalisés\n",
    "if is_modele_vgg16_calculed:\n",
    "    print(\"Les calculs ont deja tournés pour le modèle VGG-16.\")\n",
    "else:\n",
    "    print(\"Nous réalisons les calculs.\\n\")\n",
    "\n",
    "    # Compiler modèle : perte a minimiser / optimiseur / métrique evaluation\n",
    "    model_vgg16.compile(\n",
    "        loss=fonction_perte,\n",
    "        optimizer=optimiseur,\n",
    "        metrics=[metric_eval]\n",
    "        )\n",
    "\n",
    "    # Afficher un résumé du modèle\n",
    "    print(model_vgg16.summary())"
   ]
  },
  {
   "cell_type": "markdown",
   "metadata": {},
   "source": [
    "### <span style='background:black'>c/ Entrainement du modèle</span>\n",
    "\n",
    "Nous entrainons le modèle avec les données d'entrainement et de validation. Nous ne réalisons pas d'optimisation des hyperparamètres pour réaliser un POC dans un temps relativement court. Les résultats obtenus vont nous permettre d'évaluer les modèles dans leur version 'par défaut'. "
   ]
  },
  {
   "cell_type": "code",
   "execution_count": 38,
   "metadata": {},
   "outputs": [
    {
     "name": "stdout",
     "output_type": "stream",
     "text": [
      "Nous réalisons les calculs.\n",
      "Epoch 1/10\n",
      "\u001b[1m 92/100\u001b[0m \u001b[32m━━━━━━━━━━━━━━━━━━\u001b[0m\u001b[37m━━\u001b[0m \u001b[1m4s\u001b[0m 536ms/step - accuracy: 0.4143 - loss: 6.6455"
     ]
    },
    {
     "name": "stderr",
     "output_type": "stream",
     "text": [
      "C:\\Users\\pierr\\.pyenv\\pyenv-win\\versions\\3.11.5\\Lib\\contextlib.py:155: UserWarning: Your input ran out of data; interrupting training. Make sure that your dataset or generator can generate at least `steps_per_epoch * epochs` batches. You may need to use the `.repeat()` function when building your dataset.\n",
      "  self.gen.throw(typ, value, traceback)\n"
     ]
    },
    {
     "name": "stdout",
     "output_type": "stream",
     "text": [
      "\u001b[1m100/100\u001b[0m \u001b[32m━━━━━━━━━━━━━━━━━━━━\u001b[0m\u001b[37m\u001b[0m \u001b[1m65s\u001b[0m 623ms/step - accuracy: 0.4228 - loss: 6.4551 - val_accuracy: 0.7516 - val_loss: 1.3402\n",
      "Epoch 2/10\n",
      "\u001b[1m100/100\u001b[0m \u001b[32m━━━━━━━━━━━━━━━━━━━━\u001b[0m\u001b[37m\u001b[0m \u001b[1m58s\u001b[0m 574ms/step - accuracy: 0.7300 - loss: 1.5359 - val_accuracy: 0.7707 - val_loss: 0.9599\n",
      "Epoch 3/10\n",
      "\u001b[1m100/100\u001b[0m \u001b[32m━━━━━━━━━━━━━━━━━━━━\u001b[0m\u001b[37m\u001b[0m \u001b[1m57s\u001b[0m 568ms/step - accuracy: 0.7929 - loss: 0.8627 - val_accuracy: 0.7707 - val_loss: 0.8655\n",
      "Epoch 4/10\n",
      "\u001b[1m100/100\u001b[0m \u001b[32m━━━━━━━━━━━━━━━━━━━━\u001b[0m\u001b[37m\u001b[0m \u001b[1m57s\u001b[0m 568ms/step - accuracy: 0.8173 - loss: 0.7796 - val_accuracy: 0.7834 - val_loss: 0.9715\n",
      "Epoch 5/10\n",
      "\u001b[1m100/100\u001b[0m \u001b[32m━━━━━━━━━━━━━━━━━━━━\u001b[0m\u001b[37m\u001b[0m \u001b[1m57s\u001b[0m 568ms/step - accuracy: 0.8677 - loss: 0.5035 - val_accuracy: 0.7962 - val_loss: 0.9836\n",
      "Epoch 6/10\n",
      "\u001b[1m100/100\u001b[0m \u001b[32m━━━━━━━━━━━━━━━━━━━━\u001b[0m\u001b[37m\u001b[0m \u001b[1m57s\u001b[0m 568ms/step - accuracy: 0.8683 - loss: 0.5133 - val_accuracy: 0.8089 - val_loss: 1.0076\n",
      "Epoch 7/10\n",
      "\u001b[1m100/100\u001b[0m \u001b[32m━━━━━━━━━━━━━━━━━━━━\u001b[0m\u001b[37m\u001b[0m \u001b[1m57s\u001b[0m 571ms/step - accuracy: 0.9034 - loss: 0.4558 - val_accuracy: 0.7643 - val_loss: 1.1885\n",
      "Epoch 8/10\n",
      "\u001b[1m100/100\u001b[0m \u001b[32m━━━━━━━━━━━━━━━━━━━━\u001b[0m\u001b[37m\u001b[0m \u001b[1m57s\u001b[0m 571ms/step - accuracy: 0.9291 - loss: 0.3047 - val_accuracy: 0.7898 - val_loss: 1.2111\n",
      "Epoch 9/10\n",
      "\u001b[1m100/100\u001b[0m \u001b[32m━━━━━━━━━━━━━━━━━━━━\u001b[0m\u001b[37m\u001b[0m \u001b[1m58s\u001b[0m 582ms/step - accuracy: 0.9248 - loss: 0.2771 - val_accuracy: 0.7834 - val_loss: 1.2662\n",
      "Epoch 10/10\n",
      "\u001b[1m100/100\u001b[0m \u001b[32m━━━━━━━━━━━━━━━━━━━━\u001b[0m\u001b[37m\u001b[0m \u001b[1m56s\u001b[0m 562ms/step - accuracy: 0.9273 - loss: 0.2367 - val_accuracy: 0.7962 - val_loss: 1.3606\n",
      "\n",
      "=> Temps d'entraînement : 579.2 sec <=\n"
     ]
    }
   ],
   "source": [
    "# Nous réalisons les calculs s'ils n'ont pas été déjà réalisés\n",
    "if is_modele_vgg16_calculed:\n",
    "    print(\"Les calculs ont deja tournés pour le modèle VGG-16.\")\n",
    "else:\n",
    "    print(\"Nous réalisons les calculs.\\n\")\n",
    "\n",
    "    # Entraîner le modèle\n",
    "    start_time = time.time()\n",
    "    model_vgg16_history = model_vgg16.fit(\n",
    "        X_train_pretraited,\n",
    "        y_train_pretraited,\n",
    "        validation_data=(X_val_pretraited, y_val_pretraited),\n",
    "        epochs=nb_epoch,\n",
    "        steps_per_epoch=100,\n",
    "        verbose=1\n",
    "    )\n",
    "    end_time = time.time()\n",
    "\n",
    "    # Calculer le temps d'entraînement\n",
    "    temps_train = end_time - start_time\n",
    "    print(f\"\\n=> Temps d'entraînement : {round(temps_train, 2)} sec <=\")\n",
    "\n",
    "    # Créer un dictionnaire pour stocker historique, temps et nombre d'époch\n",
    "    history_model_vgg16 = {\n",
    "        'history': model_vgg16_history.history,\n",
    "        'temps_train': temps_train,\n",
    "    }\n",
    "\n",
    "    # Sauvegarder le modele entrainé\n",
    "    model_vgg16.save(\"./modele_ML/model_vgg16.keras\")\n",
    "\n",
    "    # Sauvegarder l'objet history_dict\n",
    "    with open(\"./modele_ML/history_model_vgg16.pickle\", 'wb') as f:\n",
    "        pickle.dump(history_model_vgg16, f)"
   ]
  },
  {
   "cell_type": "markdown",
   "metadata": {},
   "source": [
    "## <span style='background:green'>2/ YOLO</span>\n",
    "\n",
    "### <span style='background:black'>a/ Architecture</span>\n",
    "\n",
    "### <span style='background:red'>a remplir</span>\n",
    "\n",
    "Le modèle YOLO v8 utilisé est la version **nano** parmi les 5 disponibles depuis Janvier 2023. Cette version présente une architecture similaire à Yolov5\n",
    "\n",
    "### <span style='background:red'>fin a remplir</span>\n"
   ]
  },
  {
   "cell_type": "code",
   "execution_count": 39,
   "metadata": {},
   "outputs": [
    {
     "name": "stdout",
     "output_type": "stream",
     "text": [
      "Nous réalisons les calculs.\n",
      "Downloading https://github.com/ultralytics/assets/releases/download/v8.2.0/yolov8n-cls.pt to 'yolov8n-cls.pt'...\n"
     ]
    },
    {
     "name": "stderr",
     "output_type": "stream",
     "text": [
      "100%|██████████| 5.30M/5.30M [00:00<00:00, 5.60MB/s]\n"
     ]
    },
    {
     "name": "stdout",
     "output_type": "stream",
     "text": [
      "YOLOv8n-cls summary: 99 layers, 2719288 parameters, 0 gradients, 4.4 GFLOPs\n"
     ]
    },
    {
     "name": "stderr",
     "output_type": "stream",
     "text": [
      "6:1: W293 blank line contains whitespace\n"
     ]
    }
   ],
   "source": [
    "# Nous réalisons les calculs s'ils n'ont pas été déjà réalisés\n",
    "if is_modele_yolo_calculed:\n",
    "    print(\"Les calculs ont deja tournés pour le modèle YOLOv8 nano.\")\n",
    "else:\n",
    "    print(\"Nous réalisons les calculs\\n.\")\n",
    "\n",
    "    # Charger le modèle de classifieur YOLOv8 nano pré-entraîné\n",
    "    model_yolo = YOLO('yolov8n-cls.pt')\n",
    "\n",
    "    # Afficher les informations du modèle\n",
    "    model_yolo.info()"
   ]
  },
  {
   "cell_type": "markdown",
   "metadata": {},
   "source": [
    "### <span style='background:black'>b/ Entrainement du modèle</span>\n",
    "\n",
    "Nous entrainons le modèle avec les données d'entrainement et de validation."
   ]
  },
  {
   "cell_type": "code",
   "execution_count": 40,
   "metadata": {},
   "outputs": [
    {
     "name": "stdout",
     "output_type": "stream",
     "text": [
      "Nous réalisons les calculs.\n",
      "New https://pypi.org/project/ultralytics/8.2.8 available  Update with 'pip install -U ultralytics'\n",
      "Ultralytics YOLOv8.2.7  Python-3.11.5 torch-2.3.0+cpu CPU (AMD Ryzen 5 5600H with Radeon Graphics)\n",
      "\u001b[34m\u001b[1mengine\\trainer: \u001b[0mtask=classify, mode=train, model=yolov8n-cls.pt, data=data/cleaned, epochs=10, time=None, patience=100, batch=16, imgsz=224, save=True, save_period=-1, cache=False, device=None, workers=8, project=None, name=train, exist_ok=False, pretrained=True, optimizer=auto, verbose=True, seed=0, deterministic=True, single_cls=False, rect=False, cos_lr=False, close_mosaic=10, resume=False, amp=True, fraction=1.0, profile=False, freeze=None, multi_scale=False, overlap_mask=True, mask_ratio=4, dropout=0.0, val=True, split=val, save_json=False, save_hybrid=False, conf=None, iou=0.7, max_det=300, half=False, dnn=False, plots=True, source=None, vid_stride=1, stream_buffer=False, visualize=False, augment=False, agnostic_nms=False, classes=None, retina_masks=False, embed=None, show=False, save_frames=False, save_txt=False, save_conf=False, save_crop=False, show_labels=True, show_conf=True, show_boxes=True, line_width=None, format=torchscript, keras=False, optimize=False, int8=False, dynamic=False, simplify=False, opset=None, workspace=4, nms=False, lr0=0.01, lrf=0.01, momentum=0.937, weight_decay=0.0005, warmup_epochs=3.0, warmup_momentum=0.8, warmup_bias_lr=0.1, box=7.5, cls=0.5, dfl=1.5, pose=12.0, kobj=1.0, label_smoothing=0.0, nbs=64, hsv_h=0.015, hsv_s=0.7, hsv_v=0.4, degrees=0.0, translate=0.1, scale=0.5, shear=0.0, perspective=0.0, flipud=0.0, fliplr=0.5, bgr=0.0, mosaic=1.0, mixup=0.0, copy_paste=0.0, auto_augment=randaugment, erasing=0.4, crop_fraction=1.0, cfg=None, tracker=botsort.yaml, save_dir=c:\\Users\\pierr\\VSC_Projects\\Projet8_OCR_DataScientist\\runs\\classify\\train\n",
      "\u001b[34m\u001b[1mtrain:\u001b[0m C:\\Users\\pierr\\VSC_Projects\\Projet8_OCR_DataScientist\\data\\cleaned\\train... found 735 images in 7 classes  \n",
      "\u001b[34m\u001b[1mval:\u001b[0m C:\\Users\\pierr\\VSC_Projects\\Projet8_OCR_DataScientist\\data\\cleaned\\val... found 157 images in 7 classes  \n",
      "\u001b[34m\u001b[1mtest:\u001b[0m C:\\Users\\pierr\\VSC_Projects\\Projet8_OCR_DataScientist\\data\\cleaned\\test... found 158 images in 7 classes  \n",
      "Overriding model.yaml nc=1000 with nc=7\n",
      "\n",
      "                   from  n    params  module                                       arguments                     \n",
      "  0                  -1  1       464  ultralytics.nn.modules.conv.Conv             [3, 16, 3, 2]                 \n",
      "  1                  -1  1      4672  ultralytics.nn.modules.conv.Conv             [16, 32, 3, 2]                \n",
      "  2                  -1  1      7360  ultralytics.nn.modules.block.C2f             [32, 32, 1, True]             \n",
      "  3                  -1  1     18560  ultralytics.nn.modules.conv.Conv             [32, 64, 3, 2]                \n",
      "  4                  -1  2     49664  ultralytics.nn.modules.block.C2f             [64, 64, 2, True]             \n",
      "  5                  -1  1     73984  ultralytics.nn.modules.conv.Conv             [64, 128, 3, 2]               \n",
      "  6                  -1  2    197632  ultralytics.nn.modules.block.C2f             [128, 128, 2, True]           \n",
      "  7                  -1  1    295424  ultralytics.nn.modules.conv.Conv             [128, 256, 3, 2]              \n",
      "  8                  -1  1    460288  ultralytics.nn.modules.block.C2f             [256, 256, 1, True]           \n",
      "  9                  -1  1    339207  ultralytics.nn.modules.head.Classify         [256, 7]                      \n",
      "YOLOv8n-cls summary: 99 layers, 1447255 parameters, 1447255 gradients, 3.4 GFLOPs\n",
      "Transferred 156/158 items from pretrained weights\n",
      "\u001b[34m\u001b[1mTensorBoard: \u001b[0mStart with 'tensorboard --logdir c:\\Users\\pierr\\VSC_Projects\\Projet8_OCR_DataScientist\\runs\\classify\\train', view at http://localhost:6006/\n"
     ]
    },
    {
     "name": "stderr",
     "output_type": "stream",
     "text": [
      "\u001b[34m\u001b[1mtrain: \u001b[0mScanning C:\\Users\\pierr\\VSC_Projects\\Projet8_OCR_DataScientist\\data\\cleaned\\train... 735 images, 0 corrupt: 100%|██████████| 735/735 [00:00<?, ?it/s]\n",
      "\u001b[34m\u001b[1mval: \u001b[0mScanning C:\\Users\\pierr\\VSC_Projects\\Projet8_OCR_DataScientist\\data\\cleaned\\val... 157 images, 0 corrupt: 100%|██████████| 157/157 [00:00<?, ?it/s]"
     ]
    },
    {
     "name": "stdout",
     "output_type": "stream",
     "text": [
      "\u001b[34m\u001b[1moptimizer:\u001b[0m 'optimizer=auto' found, ignoring 'lr0=0.01' and 'momentum=0.937' and determining best 'optimizer', 'lr0' and 'momentum' automatically... \n",
      "\u001b[34m\u001b[1moptimizer:\u001b[0m AdamW(lr=0.000714, momentum=0.9) with parameter groups 26 weight(decay=0.0), 27 weight(decay=0.0005), 27 bias(decay=0.0)\n"
     ]
    },
    {
     "name": "stderr",
     "output_type": "stream",
     "text": [
      "\n",
      "2024/05/05 12:52:03 INFO mlflow.tracking.fluent: Experiment with name '/Shared/YOLOv8' does not exist. Creating a new experiment.\n"
     ]
    },
    {
     "name": "stdout",
     "output_type": "stream",
     "text": [
      "\n",
      "Ajout code par PB dans mlflow/tracking/registry.py\n",
      "store_uri:  c:\\Users\\pierr\\VSC_Projects\\Projet8_OCR_DataScientist\\runs\\mlflow\n",
      "scheme:  c\n",
      "PB a modifié la valeur de scheme\n",
      "scheme:  file \n",
      "\n"
     ]
    },
    {
     "name": "stderr",
     "output_type": "stream",
     "text": [
      "2024/05/05 12:52:05 INFO mlflow.tracking.fluent: Autologging successfully enabled for sklearn.\n",
      "2024/05/05 12:52:06 INFO mlflow.tracking.fluent: Autologging successfully enabled for statsmodels.\n",
      "2024/05/05 12:52:06 WARNING mlflow.utils.autologging_utils: You are using an unsupported version of tensorflow. If you encounter errors during autologging, try upgrading / downgrading tensorflow to a supported version, or try upgrading MLflow.\n",
      "2024/05/05 12:52:06 INFO mlflow.tracking.fluent: Autologging successfully enabled for tensorflow.\n"
     ]
    },
    {
     "name": "stdout",
     "output_type": "stream",
     "text": [
      "\u001b[34m\u001b[1mMLflow: \u001b[0mlogging run_id(460e014113fd4e3caf660a80c3459d3d) to c:\\Users\\pierr\\VSC_Projects\\Projet8_OCR_DataScientist\\runs\\mlflow\n",
      "\u001b[34m\u001b[1mMLflow: \u001b[0mview at http://127.0.0.1:5000 with 'mlflow server --backend-store-uri c:\\Users\\pierr\\VSC_Projects\\Projet8_OCR_DataScientist\\runs\\mlflow'\n",
      "\u001b[34m\u001b[1mMLflow: \u001b[0mdisable with 'yolo settings mlflow=False'\n",
      "\u001b[34m\u001b[1mTensorBoard: \u001b[0mmodel graph visualization added \n",
      "Image sizes 224 train, 224 val\n",
      "Using 0 dataloader workers\n",
      "Logging results to \u001b[1mc:\\Users\\pierr\\VSC_Projects\\Projet8_OCR_DataScientist\\runs\\classify\\train\u001b[0m\n",
      "Starting training for 10 epochs...\n",
      "\n",
      "      Epoch    GPU_mem       loss  Instances       Size\n"
     ]
    },
    {
     "name": "stderr",
     "output_type": "stream",
     "text": [
      "       1/10         0G      1.791         15        224: 100%|██████████| 46/46 [00:38<00:00,  1.19it/s]\n",
      "               classes   top1_acc   top5_acc: 100%|██████████| 5/5 [00:06<00:00,  1.29s/it]"
     ]
    },
    {
     "name": "stdout",
     "output_type": "stream",
     "text": [
      "                   all       0.58      0.943\n"
     ]
    },
    {
     "name": "stderr",
     "output_type": "stream",
     "text": [
      "\n"
     ]
    },
    {
     "name": "stdout",
     "output_type": "stream",
     "text": [
      "\n",
      "      Epoch    GPU_mem       loss  Instances       Size\n"
     ]
    },
    {
     "name": "stderr",
     "output_type": "stream",
     "text": [
      "       2/10         0G      1.238         15        224: 100%|██████████| 46/46 [00:33<00:00,  1.36it/s]\n",
      "               classes   top1_acc   top5_acc: 100%|██████████| 5/5 [00:05<00:00,  1.11s/it]"
     ]
    },
    {
     "name": "stdout",
     "output_type": "stream",
     "text": [
      "                   all      0.707      0.981\n"
     ]
    },
    {
     "name": "stderr",
     "output_type": "stream",
     "text": [
      "\n"
     ]
    },
    {
     "name": "stdout",
     "output_type": "stream",
     "text": [
      "\n",
      "      Epoch    GPU_mem       loss  Instances       Size\n"
     ]
    },
    {
     "name": "stderr",
     "output_type": "stream",
     "text": [
      "       3/10         0G     0.8625         15        224: 100%|██████████| 46/46 [00:32<00:00,  1.41it/s]\n",
      "               classes   top1_acc   top5_acc: 100%|██████████| 5/5 [00:05<00:00,  1.11s/it]"
     ]
    },
    {
     "name": "stdout",
     "output_type": "stream",
     "text": [
      "                   all       0.72      0.981\n"
     ]
    },
    {
     "name": "stderr",
     "output_type": "stream",
     "text": [
      "\n"
     ]
    },
    {
     "name": "stdout",
     "output_type": "stream",
     "text": [
      "\n",
      "      Epoch    GPU_mem       loss  Instances       Size\n"
     ]
    },
    {
     "name": "stderr",
     "output_type": "stream",
     "text": [
      "       4/10         0G     0.6676         15        224: 100%|██████████| 46/46 [00:32<00:00,  1.43it/s]\n",
      "               classes   top1_acc   top5_acc: 100%|██████████| 5/5 [00:05<00:00,  1.10s/it]"
     ]
    },
    {
     "name": "stdout",
     "output_type": "stream",
     "text": [
      "                   all      0.752      0.987\n"
     ]
    },
    {
     "name": "stderr",
     "output_type": "stream",
     "text": [
      "\n"
     ]
    },
    {
     "name": "stdout",
     "output_type": "stream",
     "text": [
      "\n",
      "      Epoch    GPU_mem       loss  Instances       Size\n"
     ]
    },
    {
     "name": "stderr",
     "output_type": "stream",
     "text": [
      "       5/10         0G     0.5454         15        224: 100%|██████████| 46/46 [00:32<00:00,  1.43it/s]\n",
      "               classes   top1_acc   top5_acc: 100%|██████████| 5/5 [00:05<00:00,  1.09s/it]"
     ]
    },
    {
     "name": "stdout",
     "output_type": "stream",
     "text": [
      "                   all      0.745      0.987\n"
     ]
    },
    {
     "name": "stderr",
     "output_type": "stream",
     "text": [
      "\n"
     ]
    },
    {
     "name": "stdout",
     "output_type": "stream",
     "text": [
      "\n",
      "      Epoch    GPU_mem       loss  Instances       Size\n"
     ]
    },
    {
     "name": "stderr",
     "output_type": "stream",
     "text": [
      "       6/10         0G     0.4777         15        224: 100%|██████████| 46/46 [00:32<00:00,  1.43it/s]\n",
      "               classes   top1_acc   top5_acc: 100%|██████████| 5/5 [00:05<00:00,  1.11s/it]"
     ]
    },
    {
     "name": "stdout",
     "output_type": "stream",
     "text": [
      "                   all      0.771      0.987\n"
     ]
    },
    {
     "name": "stderr",
     "output_type": "stream",
     "text": [
      "\n"
     ]
    },
    {
     "name": "stdout",
     "output_type": "stream",
     "text": [
      "\n",
      "      Epoch    GPU_mem       loss  Instances       Size\n"
     ]
    },
    {
     "name": "stderr",
     "output_type": "stream",
     "text": [
      "       7/10         0G     0.4518         15        224: 100%|██████████| 46/46 [00:32<00:00,  1.43it/s]\n",
      "               classes   top1_acc   top5_acc: 100%|██████████| 5/5 [00:05<00:00,  1.10s/it]"
     ]
    },
    {
     "name": "stdout",
     "output_type": "stream",
     "text": [
      "                   all      0.752          1\n"
     ]
    },
    {
     "name": "stderr",
     "output_type": "stream",
     "text": [
      "\n"
     ]
    },
    {
     "name": "stdout",
     "output_type": "stream",
     "text": [
      "\n",
      "      Epoch    GPU_mem       loss  Instances       Size\n"
     ]
    },
    {
     "name": "stderr",
     "output_type": "stream",
     "text": [
      "       8/10         0G     0.3677         15        224: 100%|██████████| 46/46 [00:32<00:00,  1.43it/s]\n",
      "               classes   top1_acc   top5_acc: 100%|██████████| 5/5 [00:05<00:00,  1.09s/it]"
     ]
    },
    {
     "name": "stdout",
     "output_type": "stream",
     "text": [
      "                   all      0.771      0.987\n"
     ]
    },
    {
     "name": "stderr",
     "output_type": "stream",
     "text": [
      "\n"
     ]
    },
    {
     "name": "stdout",
     "output_type": "stream",
     "text": [
      "\n",
      "      Epoch    GPU_mem       loss  Instances       Size\n"
     ]
    },
    {
     "name": "stderr",
     "output_type": "stream",
     "text": [
      "       9/10         0G     0.3607         15        224: 100%|██████████| 46/46 [00:32<00:00,  1.43it/s]\n",
      "               classes   top1_acc   top5_acc: 100%|██████████| 5/5 [00:05<00:00,  1.10s/it]"
     ]
    },
    {
     "name": "stdout",
     "output_type": "stream",
     "text": [
      "                   all      0.783      0.987\n"
     ]
    },
    {
     "name": "stderr",
     "output_type": "stream",
     "text": [
      "\n"
     ]
    },
    {
     "name": "stdout",
     "output_type": "stream",
     "text": [
      "\n",
      "      Epoch    GPU_mem       loss  Instances       Size\n"
     ]
    },
    {
     "name": "stderr",
     "output_type": "stream",
     "text": [
      "      10/10         0G     0.3591         15        224: 100%|██████████| 46/46 [00:32<00:00,  1.43it/s]\n",
      "               classes   top1_acc   top5_acc: 100%|██████████| 5/5 [00:05<00:00,  1.09s/it]"
     ]
    },
    {
     "name": "stdout",
     "output_type": "stream",
     "text": [
      "                   all      0.777      0.987\n"
     ]
    },
    {
     "name": "stderr",
     "output_type": "stream",
     "text": [
      "\n"
     ]
    },
    {
     "name": "stdout",
     "output_type": "stream",
     "text": [
      "\n",
      "10 epochs completed in 0.109 hours.\n",
      "Optimizer stripped from c:\\Users\\pierr\\VSC_Projects\\Projet8_OCR_DataScientist\\runs\\classify\\train\\weights\\last.pt, 3.0MB\n",
      "Optimizer stripped from c:\\Users\\pierr\\VSC_Projects\\Projet8_OCR_DataScientist\\runs\\classify\\train\\weights\\best.pt, 3.0MB\n",
      "\n",
      "Validating c:\\Users\\pierr\\VSC_Projects\\Projet8_OCR_DataScientist\\runs\\classify\\train\\weights\\best.pt...\n",
      "Ultralytics YOLOv8.2.7  Python-3.11.5 torch-2.3.0+cpu CPU (AMD Ryzen 5 5600H with Radeon Graphics)\n",
      "YOLOv8n-cls summary (fused): 73 layers, 1443847 parameters, 0 gradients, 3.3 GFLOPs\n",
      "\u001b[34m\u001b[1mtrain:\u001b[0m C:\\Users\\pierr\\VSC_Projects\\Projet8_OCR_DataScientist\\data\\cleaned\\train... found 735 images in 7 classes  \n",
      "\u001b[34m\u001b[1mval:\u001b[0m C:\\Users\\pierr\\VSC_Projects\\Projet8_OCR_DataScientist\\data\\cleaned\\val... found 157 images in 7 classes  \n",
      "\u001b[34m\u001b[1mtest:\u001b[0m C:\\Users\\pierr\\VSC_Projects\\Projet8_OCR_DataScientist\\data\\cleaned\\test... found 158 images in 7 classes  \n"
     ]
    },
    {
     "name": "stderr",
     "output_type": "stream",
     "text": [
      "               classes   top1_acc   top5_acc: 100%|██████████| 5/5 [00:05<00:00,  1.10s/it]\n"
     ]
    },
    {
     "name": "stdout",
     "output_type": "stream",
     "text": [
      "                   all      0.783      0.987\n",
      "Speed: 0.0ms preprocess, 4.4ms inference, 0.0ms loss, 0.0ms postprocess per image\n",
      "Results saved to \u001b[1mc:\\Users\\pierr\\VSC_Projects\\Projet8_OCR_DataScientist\\runs\\classify\\train\u001b[0m\n",
      "Results saved to \u001b[1mc:\\Users\\pierr\\VSC_Projects\\Projet8_OCR_DataScientist\\runs\\classify\\train\u001b[0m\n",
      "\n",
      "Ajout code par PB dans mlflow/store/artifact/artifact_repository_registry.py\n",
      "artifact_uri:  c:\\Users\\pierr\\VSC_Projects\\Projet8_OCR_DataScientist\\runs\\mlflow/354117003785794892/460e014113fd4e3caf660a80c3459d3d/artifacts\n",
      "PB a modifié la valeur de artifact_uri\n",
      "artifact_uri:  file \n",
      "\n",
      "\u001b[34m\u001b[1mMLflow: \u001b[0mresults logged to c:\\Users\\pierr\\VSC_Projects\\Projet8_OCR_DataScientist\\runs\\mlflow\n",
      "\u001b[34m\u001b[1mMLflow: \u001b[0mdisable with 'yolo settings mlflow=False'\n"
     ]
    },
    {
     "name": "stderr",
     "output_type": "stream",
     "text": [
      "6:1: W293 blank line contains whitespace\n"
     ]
    },
    {
     "name": "stdout",
     "output_type": "stream",
     "text": [
      "\n",
      "=> Temps d'entraînement : 405.16 sec <=\n"
     ]
    }
   ],
   "source": [
    "# Nous réalisons les calculs s'ils n'ont pas été déjà réalisés\n",
    "if is_modele_yolo_calculed:\n",
    "    print(\"Les calculs ont deja tournés pour le modèle YOLOv8 nano.\")\n",
    "else:\n",
    "    print(\"Nous réalisons les calculs.\\n\")\n",
    "\n",
    "    # Entrainer le modèle YOLO sur les données\n",
    "    start_time = time.time()\n",
    "    model_yolo.train(\n",
    "        data='data/cleaned',\n",
    "        epochs=nb_epoch\n",
    "    )\n",
    "    end_time = time.time()\n",
    "\n",
    "    # Calculer le temps d'entraînement\n",
    "    temps_train = end_time - start_time\n",
    "    print(f\"\\n=> Temps d'entraînement : {round(temps_train, 2)} sec <=\")\n",
    "\n",
    "    # Acces aux résultats\n",
    "    results_path = './runs/classify/train/results.csv'\n",
    "    results_df = pd.read_csv(results_path)\n",
    "\n",
    "    # Créer un dictionnaire pour stocker historique, temps et nombre d'époch\n",
    "    history_model_yolo = {\n",
    "        'history': results_df,\n",
    "        'temps_train': temps_train,\n",
    "    }\n",
    "\n",
    "    # Sauvegarder l'objet history_dict\n",
    "    with open(\"./modele_ML/history_model_yolo.pickle\", 'wb') as f:\n",
    "        pickle.dump(history_model_yolo, f)"
   ]
  },
  {
   "cell_type": "markdown",
   "metadata": {},
   "source": [
    "# <span style='background:blue'>Etape 7 : Evaluation des modèles </span>\n",
    "\n",
    "Pour comparer les performances des différents modèles, nous utilisons 2 indicateurs en mesurant **l'accuracy** et le **temps de calcul** nécessaire pour l'entrainement du modèle. En effet, l'accuracy seule ne suffit pas à déterminer le meilleur modèle, il faut également que celui-ci réalise ses calculs en un minimun de temps.Enfin, nous onbserverons lamatrice de confusion pour comprendre erreurs de prédiction. \n",
    "\n",
    "=> Le choix de l'indicateur est donc un compromis entre l'accuracy et le temps de calcul.\n",
    "\n",
    "## <span style='background:green'>1/ VGG-16</span>\n",
    "\n",
    "### <span style='background:black'>a/ Accuracy</span>\n",
    "\n",
    "Nous affichons l'évolution du loss et de l'accuracy au cours de l'entrainement du modèle grâce à l'history. L'évolution de ces 2 métriques avec les données de validation est ici affichée sous le nom 'Test'. "
   ]
  },
  {
   "cell_type": "code",
   "execution_count": 70,
   "metadata": {},
   "outputs": [
    {
     "data": {
      "image/png": "[encoded data removed]",
      "text/plain": [
       "<Figure size 1000x500 with 2 Axes>"
      ]
     },
     "metadata": {},
     "output_type": "display_data"
    }
   ],
   "source": [
    "# Afficher l'historique de l'entraînement\n",
    "show_history(history_model_vgg16['history'])"
   ]
  },
  {
   "cell_type": "markdown",
   "metadata": {},
   "source": [
    "Nous évaluons ensuite le modèle avec le dataset de test pour obtenir l'accuracy finale du modèle."
   ]
  },
  {
   "cell_type": "code",
   "execution_count": 113,
   "metadata": {},
   "outputs": [
    {
     "name": "stdout",
     "output_type": "stream",
     "text": [
      "\u001b[1m5/5\u001b[0m \u001b[32m━━━━━━━━━━━━━━━━━━━━\u001b[0m\u001b[37m\u001b[0m \u001b[1m11s\u001b[0m 2s/step - accuracy: 0.8288 - loss: 1.0242\n",
      "\n",
      "Test Accuracy :  0.84\n"
     ]
    }
   ],
   "source": [
    "# Evaluation meilleur modèle sur les données de test\n",
    "loss_vgg16_test, accuracy_vgg16_test = (\n",
    "    model_vgg16.evaluate(X_test_pretraited, y_test_pretraited)\n",
    ")\n",
    "print(\"\\nTest Accuracy :  {:.2f}\".format(accuracy_vgg16_test))"
   ]
  },
  {
   "cell_type": "markdown",
   "metadata": {},
   "source": [
    "Le modèle VGG-16 permet d'obtenir une accuracy de test de 0.84."
   ]
  },
  {
   "cell_type": "markdown",
   "metadata": {},
   "source": [
    "### <span style='background:black'>b/ Temps d'entrainement</span>\n",
    "\n",
    "Nous observons le temps néccessaire pour entrainer le modèle permettant d'obtenir ces performances. "
   ]
  },
  {
   "cell_type": "code",
   "execution_count": 135,
   "metadata": {},
   "outputs": [
    {
     "data": {
      "text/plain": [
       "'Temps entrainement: 579 sec'"
      ]
     },
     "execution_count": 135,
     "metadata": {},
     "output_type": "execute_result"
    }
   ],
   "source": [
    "f\"Temps entrainement: {history_model_vgg16['temps_train']:.0f} sec\""
   ]
  },
  {
   "cell_type": "markdown",
   "metadata": {},
   "source": [
    "### <span style='background:black'>c/ Matrice de confusion</span>\n",
    "\n",
    "Nous affichons la matrice de confusion pour observer les erreurs de classification du modèle."
   ]
  },
  {
   "cell_type": "code",
   "execution_count": 116,
   "metadata": {},
   "outputs": [
    {
     "name": "stdout",
     "output_type": "stream",
     "text": [
      "\u001b[1m5/5\u001b[0m \u001b[32m━━━━━━━━━━━━━━━━━━━━\u001b[0m\u001b[37m\u001b[0m \u001b[1m11s\u001b[0m 2s/step\n",
      "\n",
      "Correspondance des clusters :  [0 1 2 3 4 5 6]\n"
     ]
    },
    {
     "data": {
      "image/png": "[encoded data removed]",
      "text/plain": [
       "<Figure size 600x400 with 2 Axes>"
      ]
     },
     "metadata": {},
     "output_type": "display_data"
    }
   ],
   "source": [
    "# Categorie réelle et prédites des images de validation\n",
    "y_test_num = np.argmax(y_test_pretraited, axis=1)\n",
    "y_test_pred = np.argmax(model_vgg16.predict(X_test_pretraited), axis=1)\n",
    "\n",
    "# Verifier la correspondance des clusters\n",
    "y_test_pred_transform = conf_mat_transform_argmax(y_test_num, y_test_pred)\n",
    "\n",
    "# Afficher la matrice de confusion et le rapport de classification\n",
    "conf_mat_vgg16 = matrice_conf_et_rapport(\n",
    "    y_test_num,\n",
    "    y_test_pred_transform,\n",
    "    categories\n",
    "    )"
   ]
  },
  {
   "cell_type": "markdown",
   "metadata": {},
   "source": [
    "La catégorie pour laquelle le modèle a fait le plus d'erreur est **Home Furnishing** (5 erreurs de prédiction)."
   ]
  },
  {
   "cell_type": "markdown",
   "metadata": {},
   "source": [
    "## <span style='background:green'>2/ YOLO</span>\n",
    "\n",
    "### <span style='background:black'>a/ Accuracy</span>\n",
    "\n",
    "Nous affichons l'évolution du loss et de l'accuracy au cours de l'entrainement du modèle grâce à l'history. L'évolution de ces 2 métriques avec les données de validation est ici affichée sous le nom 'Test'. "
   ]
  },
  {
   "cell_type": "code",
   "execution_count": 108,
   "metadata": {},
   "outputs": [
    {
     "data": {
      "image/png": "[encoded data removed]",
      "text/plain": [
       "<Figure size 640x480 with 1 Axes>"
      ]
     },
     "metadata": {},
     "output_type": "display_data"
    },
    {
     "data": {
      "image/png": "[encoded data removed]",
      "text/plain": [
       "<Figure size 640x480 with 1 Axes>"
      ]
     },
     "metadata": {},
     "output_type": "display_data"
    }
   ],
   "source": [
    "plot_results_yolo(history_model_yolo)"
   ]
  },
  {
   "cell_type": "markdown",
   "metadata": {},
   "source": [
    "Nous évaluons ensuite le modèle avec le dataset de test pour obtenir l'accuracy finale du modèle."
   ]
  },
  {
   "cell_type": "code",
   "execution_count": 112,
   "metadata": {},
   "outputs": [
    {
     "name": "stdout",
     "output_type": "stream",
     "text": [
      "Ultralytics YOLOv8.2.7  Python-3.11.5 torch-2.3.0+cpu CPU (AMD Ryzen 5 5600H with Radeon Graphics)\n",
      "YOLOv8n-cls summary (fused): 73 layers, 1443847 parameters, 0 gradients, 3.3 GFLOPs\n"
     ]
    },
    {
     "name": "stderr",
     "output_type": "stream",
     "text": [
      "\u001b[34m\u001b[1mval: \u001b[0mScanning C:\\Users\\pierr\\VSC_Projects\\Projet8_OCR_DataScientist\\data\\cleaned\\test... 158 images, 0 corrupt: 100%|██████████| 158/158 [00:00<?, ?it/s]\n",
      "               classes   top1_acc   top5_acc: 100%|██████████| 10/10 [00:05<00:00,  1.85it/s]\n"
     ]
    },
    {
     "name": "stdout",
     "output_type": "stream",
     "text": [
      "                   all      0.835          1\n",
      "Speed: 0.0ms preprocess, 4.5ms inference, 0.0ms loss, 0.0ms postprocess per image\n",
      "Results saved to \u001b[1mc:\\Users\\pierr\\VSC_Projects\\Projet8_OCR_DataScientist\\runs\\classify\\val3\u001b[0m\n",
      "\n",
      "Test Accuracy :  0.84\n"
     ]
    }
   ],
   "source": [
    "# charger le modèle YOLO (dernier)\n",
    "model = YOLO('runs/classify/train/weights/best.pt')\n",
    "\n",
    "# Evaluer le modèle sur le jeu de test\n",
    "history_model_yolo['metrics'] = model.val(\n",
    "    data='validation_on_test_dataset.yaml',\n",
    "    plots=True,\n",
    "    save_json=True,\n",
    ")\n",
    "print(\"\\nTest Accuracy :  {:.2f}\".format(history_model_yolo['metrics'].top1))"
   ]
  },
  {
   "cell_type": "markdown",
   "metadata": {},
   "source": [
    "Le modèle VGG-16 permet d'obtenir une accuracy de test de 0.84."
   ]
  },
  {
   "cell_type": "markdown",
   "metadata": {},
   "source": [
    "### <span style='background:black'>b/ Temps d'entrainement</span>\n",
    "\n",
    "Nous observons le temps néccessaire pour entrainer le modèle permettant d'obtenir ces performances. "
   ]
  },
  {
   "cell_type": "code",
   "execution_count": 136,
   "metadata": {},
   "outputs": [
    {
     "data": {
      "text/plain": [
       "'Temps entrainement: 405 sec'"
      ]
     },
     "execution_count": 136,
     "metadata": {},
     "output_type": "execute_result"
    }
   ],
   "source": [
    "f\"Temps entrainement: {history_model_yolo['temps_train']:.0f} sec\""
   ]
  },
  {
   "cell_type": "markdown",
   "metadata": {},
   "source": [
    "### <span style='background:black'>c/ Matrice de confusion</span>\n",
    "\n",
    "Nous affichons la matrice de confusion pour observer les erreurs de classification du modèle.\n",
    "\n",
    "![Matrice de confusion](runs/classify/val/confusion_matrix.png)"
   ]
  },
  {
   "cell_type": "markdown",
   "metadata": {},
   "source": [
    "La catégorie pour laquelle le modèle a fait le plus d'erreur est **Home Furnishing** (4 erreurs de prédiction)."
   ]
  },
  {
   "cell_type": "markdown",
   "metadata": {},
   "source": [
    "# <span style='background:blue'>Etape 8 : Comparaison des résultats </span>\n"
   ]
  },
  {
   "cell_type": "code",
   "execution_count": 150,
   "metadata": {},
   "outputs": [
    {
     "data": {
      "text/html": [
       "<div>\n",
       "<style scoped>\n",
       "    .dataframe tbody tr th:only-of-type {\n",
       "        vertical-align: middle;\n",
       "    }\n",
       "\n",
       "    .dataframe tbody tr th {\n",
       "        vertical-align: top;\n",
       "    }\n",
       "\n",
       "    .dataframe thead th {\n",
       "        text-align: right;\n",
       "    }\n",
       "</style>\n",
       "<table border=\"1\" class=\"dataframe\">\n",
       "  <thead>\n",
       "    <tr style=\"text-align: right;\">\n",
       "      <th></th>\n",
       "      <th>Test Accuracy</th>\n",
       "      <th>Temps (sec)</th>\n",
       "      <th>Epochs</th>\n",
       "    </tr>\n",
       "  </thead>\n",
       "  <tbody>\n",
       "    <tr>\n",
       "      <th>vgg16</th>\n",
       "      <td>0.84</td>\n",
       "      <td>579.20</td>\n",
       "      <td>10</td>\n",
       "    </tr>\n",
       "    <tr>\n",
       "      <th>yolo_v8</th>\n",
       "      <td>0.84</td>\n",
       "      <td>405.16</td>\n",
       "      <td>10</td>\n",
       "    </tr>\n",
       "  </tbody>\n",
       "</table>\n",
       "</div>"
      ],
      "text/plain": [
       "         Test Accuracy  Temps (sec)  Epochs\n",
       "vgg16             0.84       579.20      10\n",
       "yolo_v8           0.84       405.16      10"
      ]
     },
     "metadata": {},
     "output_type": "display_data"
    },
    {
     "name": "stdout",
     "output_type": "stream",
     "text": [
      "Yolo a gagné 30% de temps de calcul.\n"
     ]
    }
   ],
   "source": [
    "# Regroupement des résultats du modèle VGG16\n",
    "resultat_vgg16 = creer_df_results(\n",
    "    history_model_vgg16,\n",
    "    nb_epoch,\n",
    "    'vgg16',\n",
    "    accuracy_vgg16_test\n",
    ")\n",
    "\n",
    "# Regroupement des résultats du modèle Yolo\n",
    "resultat_yolo = creer_df_results(\n",
    "    history_model_yolo,\n",
    "    nb_epoch,\n",
    "    'yolo_v8',\n",
    "    accuracy_vgg16_test\n",
    ")\n",
    "\n",
    "# Assembler resultat_vgg16 et resultat_yolo\n",
    "df_results = pd.concat([resultat_vgg16, resultat_yolo])\n",
    "display(df_results)\n",
    "\n",
    "# Afficher le pourcentage de temps de calcul gagné par Yolo\n",
    "yolo_time = df_results['Temps (sec)'].loc['yolo_v8']\n",
    "vgg16_time = df_results['Temps (sec)'].loc['vgg16']\n",
    "pourcentage_gagne = (1 - yolo_time / vgg16_time) * 100\n",
    "\n",
    "print(f\"Yolo a gagné {pourcentage_gagne:.0f}% de temps de calcul.\")"
   ]
  },
  {
   "cell_type": "markdown",
   "metadata": {},
   "source": [
    "<div class=\"alert alert-block alert-success\"><b>Bilan: </b>\n",
    "\n",
    "Le modèle Yolo permet d'obtenir la même accuracy (84%) que le modèle VGG-16 mais plus rapidement car le temps d'entrainement est réduit -30% pour le même nombre d'epoch. "
   ]
  },
  {
   "cell_type": "markdown",
   "metadata": {},
   "source": [
    "# <span style='background:blue'>Etape 9 : Analyse des résultats</span>\n",
    "\n",
    "Analyser les résultats de la comparaison pour déterminer quel modèle offre les meilleures performances de détection d'objets dans des images médicales, ainsi que les forces et les faiblesses de chaque approche.\n",
    "\n",
    "\n",
    "### <span style='background:black'>a/ Feature importance locale</span>"
   ]
  },
  {
   "cell_type": "code",
   "execution_count": 181,
   "metadata": {},
   "outputs": [
    {
     "data": {
      "text/plain": [
       "352    ./data/source/Images/833a87b0af3b84fe246d2ebf2...\n",
       "Name: image, dtype: object"
      ]
     },
     "execution_count": 181,
     "metadata": {},
     "output_type": "execute_result"
    }
   ],
   "source": [
    "data_cleaned[0:1]['image']"
   ]
  },
  {
   "cell_type": "markdown",
   "metadata": {},
   "source": [
    "### <span style='background:black'>b/ Feature importance globale</span>"
   ]
  },
  {
   "cell_type": "code",
   "execution_count": null,
   "metadata": {},
   "outputs": [],
   "source": []
  },
  {
   "cell_type": "markdown",
   "metadata": {},
   "source": [
    "# <span style='background:blue'>Conclusion</span>\n"
   ]
  },
  {
   "cell_type": "code",
   "execution_count": null,
   "metadata": {},
   "outputs": [],
   "source": [
    "# Afficher temps d'exécution du notebook\n",
    "calculer_duree_notebook(start_time)"
   ]
  },
  {
   "cell_type": "markdown",
   "metadata": {},
   "source": [
    "Réaliser une veille sur les outils et tendances en data science et IA afin de mettre à jour son expertise et de s’assurer que les méthodes utilisées mobilisent bien les techniques en vigueur \n",
    "\n",
    "~~- CE1 Vous avez consulté des sources reconnues d'informations, produites récemment (blogs reconnus, articles de recherche de journaux et conférences reconnues dans le domaine).~~\n",
    "- CE2 Vous avez présenté les points clés de chacune des sources bibliographiques, y compris des détails mathématiques.\n",
    "- CE3 Vous avez mis en place une preuve de concept pour tester le nouvel outil / le nouveau modèle, la nouvelle démarche, et le comparer à une approche classique."
   ]
  }
 ],
 "metadata": {
  "kernelspec": {
   "display_name": "env",
   "language": "python",
   "name": "python3"
  },
  "language_info": {
   "codemirror_mode": {
    "name": "ipython",
    "version": 3
   },
   "file_extension": ".py",
   "mimetype": "text/x-python",
   "name": "python",
   "nbconvert_exporter": "python",
   "pygments_lexer": "ipython3",
   "version": "3.11.5"
  }
 },
 "nbformat": 4,
 "nbformat_minor": 2
}
